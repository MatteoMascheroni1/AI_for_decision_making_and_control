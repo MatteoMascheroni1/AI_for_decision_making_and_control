{
 "cells": [
  {
   "cell_type": "code",
   "execution_count": 20,
   "metadata": {
    "collapsed": true,
    "ExecuteTime": {
     "end_time": "2024-01-31T13:22:45.782831700Z",
     "start_time": "2024-01-31T13:22:45.778626100Z"
    }
   },
   "outputs": [],
   "source": [
    "import numpy as np\n",
    "from hmmlearn import hmm\n",
    "import pandas as pd\n"
   ]
  },
  {
   "cell_type": "code",
   "execution_count": 23,
   "outputs": [],
   "source": [
    "# defining matrixes\n",
    "np.random.seed(42)\n",
    "components = 6\n",
    "delta = 0.05\n",
    "m = 5\n",
    "startprob = np.array([1, 0, 0, 0, 0, 0])\n",
    "transtprob = np.array([[0.1, 0.9, 0, 0, 0, 0],\n",
    "                        [0.2, 0, 0.1+delta, 0, 0, 0.7-delta],\n",
    "                        [0, 0.5, 0, 0.5, 0, 0],\n",
    "                        [0, 0, 0.5, 0.5, 0, 0],\n",
    "                        [0, 0, 0.1, 0, 0.4, 0.5],\n",
    "                        [0, 0.2, 0, 0, 0.7, 0.1]])\n",
    "emissionprob = np.array([[0.25, 0.25, 0.25, 0.25],\n",
    "                         [0.4, 0.3, 0.2, 0.1],\n",
    "                         [0.4, 0.4, 0.1, 0.1],\n",
    "                         [0.3, 0.3, 0.3, 0.1],\n",
    "                         [0.2, 0.2, 0.2, 0.4],\n",
    "                         [0.2, 0.2, 0.3, 0.3]\n",
    "                         ])\n"
   ],
   "metadata": {
    "collapsed": false,
    "ExecuteTime": {
     "end_time": "2024-01-31T13:27:50.404481200Z",
     "start_time": "2024-01-31T13:27:50.401981200Z"
    }
   }
  },
  {
   "cell_type": "code",
   "execution_count": 11,
   "outputs": [],
   "source": [
    "# model instatiation\n",
    "model = hmm.CategoricalHMM(n_components=components)\n",
    "model.startprob_=startprob\n",
    "model.transmat_ = transtprob\n",
    "model.emissionprob_ = emissionprob"
   ],
   "metadata": {
    "collapsed": false,
    "ExecuteTime": {
     "end_time": "2024-01-31T13:18:36.712863600Z",
     "start_time": "2024-01-31T13:18:36.708873Z"
    }
   }
  },
  {
   "cell_type": "code",
   "execution_count": 12,
   "outputs": [],
   "source": [
    "def observation_sample(model_gen, k = 10):\n",
    "    O, Q = model_gen.sample(k*2)\n",
    "    observations = O[np.arange(0,2*k,2)].flatten()\n",
    "    return observations, Q"
   ],
   "metadata": {
    "collapsed": false,
    "ExecuteTime": {
     "end_time": "2024-01-31T13:18:38.571229600Z",
     "start_time": "2024-01-31T13:18:38.567239600Z"
    }
   }
  },
  {
   "cell_type": "code",
   "execution_count": 13,
   "outputs": [],
   "source": [
    "obs, real_states= observation_sample(model_gen=model, k=200)"
   ],
   "metadata": {
    "collapsed": false,
    "ExecuteTime": {
     "end_time": "2024-01-31T13:18:43.324099700Z",
     "start_time": "2024-01-31T13:18:43.314911100Z"
    }
   }
  },
  {
   "cell_type": "code",
   "execution_count": 16,
   "outputs": [],
   "source": [
    "# definition of Viterbi alg with obs every other state\n",
    "def viterbi(obs, components):\n",
    "    T = len(obs)*2\n",
    "    V = np.zeros((T,componets))\n",
    "    for j in range(componets):\n",
    "        V[0][j] = startprob[j]*emissionprob[j][obs[0]]\n",
    "    for t in range(1,T):\n",
    "        for j in range(components):\n",
    "            if t%2 == 0:\n",
    "                V[t][j] = max(V[t-1] * transtprob[:,j] * emissionprob[j][obs[int(t/2)]])\n",
    "            else:\n",
    "                V[t][j] = max(V[t-1] * transtprob[:,j])\n",
    "    optimal_state = np.argmax(V[T-1])\n",
    "    best_path = [optimal_state]\n",
    "    for i in range(T-2,-1,-1):\n",
    "        optimal_state = np.argmax(V[i-1]*transtprob[:,optimal_state])\n",
    "        best_path.append(optimal_state)\n",
    "    return best_path"
   ],
   "metadata": {
    "collapsed": false,
    "ExecuteTime": {
     "end_time": "2024-01-31T13:19:51.576570900Z",
     "start_time": "2024-01-31T13:19:51.573628700Z"
    }
   }
  },
  {
   "cell_type": "code",
   "execution_count": 18,
   "outputs": [],
   "source": [
    "def high_states_check(path, m, high_states=[4,5]):\n",
    "    path_np = np.array(path)\n",
    "    path_np[path_np>=min(high_states)] = 7\n",
    "    for i in range(len(path) - m):\n",
    "        if np.array_equal(path_np[i:i+m], np.array([7]*m)):\n",
    "            # print(\"Fuori controllo\")\n",
    "            return True\n",
    "    return False"
   ],
   "metadata": {
    "collapsed": false,
    "ExecuteTime": {
     "end_time": "2024-01-31T13:20:09.376928400Z",
     "start_time": "2024-01-31T13:20:09.374427300Z"
    }
   }
  },
  {
   "cell_type": "code",
   "execution_count": 19,
   "outputs": [
    {
     "data": {
      "text/plain": "True"
     },
     "execution_count": 19,
     "metadata": {},
     "output_type": "execute_result"
    }
   ],
   "source": [
    "high_states_check(viterbi(obs=obs,components=components), m=5)"
   ],
   "metadata": {
    "collapsed": false,
    "ExecuteTime": {
     "end_time": "2024-01-31T13:20:10.991297200Z",
     "start_time": "2024-01-31T13:20:10.975962200Z"
    }
   }
  },
  {
   "cell_type": "code",
   "execution_count": null,
   "outputs": [],
   "source": [],
   "metadata": {
    "collapsed": false
   }
  },
  {
   "cell_type": "code",
   "execution_count": 21,
   "outputs": [],
   "source": [
    "def high_risk_condition(model, components, m, k,n, f):\n",
    "    cons_state = []\n",
    "    for i in range(n):\n",
    "        obs, real_states= observation_sample(model_gen=model, k=k)\n",
    "        cons_state.append(high_states_check(viterbi(obs=obs,components=components), m=m))\n",
    "    return cons_state"
   ],
   "metadata": {
    "collapsed": false,
    "ExecuteTime": {
     "end_time": "2024-01-31T13:26:17.725014600Z",
     "start_time": "2024-01-31T13:26:17.722020300Z"
    }
   }
  },
  {
   "cell_type": "code",
   "execution_count": 25,
   "outputs": [],
   "source": [
    "# definition of parameters\n",
    "m = 5\n",
    "k = 200\n",
    "n = 100\n",
    "f = 0.1"
   ],
   "metadata": {
    "collapsed": false,
    "ExecuteTime": {
     "end_time": "2024-01-31T13:27:58.103881100Z",
     "start_time": "2024-01-31T13:27:58.099386100Z"
    }
   }
  },
  {
   "cell_type": "code",
   "execution_count": 26,
   "outputs": [],
   "source": [
    "states_delta05 = high_risk_condition(model=model, components=components, m=m,k=k,n=n,f=f)"
   ],
   "metadata": {
    "collapsed": false,
    "ExecuteTime": {
     "end_time": "2024-01-31T13:28:00.725224300Z",
     "start_time": "2024-01-31T13:28:00.123984400Z"
    }
   }
  },
  {
   "cell_type": "code",
   "execution_count": 27,
   "outputs": [
    {
     "data": {
      "text/plain": "[True,\n True,\n True,\n True,\n True,\n True,\n True,\n True,\n True,\n True,\n True,\n True,\n True,\n True,\n True,\n True,\n True,\n True,\n True,\n True,\n True,\n True,\n True,\n True,\n True,\n True,\n True,\n True,\n True,\n True,\n True,\n True,\n True,\n True,\n True,\n True,\n True,\n True,\n True,\n True,\n True,\n True,\n True,\n True,\n True,\n True,\n True,\n True,\n True,\n True,\n True,\n True,\n True,\n True,\n True,\n True,\n True,\n True,\n True,\n True,\n True,\n True,\n True,\n True,\n True,\n True,\n True,\n True,\n True,\n True,\n True,\n True,\n True,\n True,\n True,\n True,\n True,\n True,\n True,\n True,\n True,\n True,\n True,\n True,\n True,\n True,\n True,\n True,\n True,\n True,\n True,\n True,\n True,\n True,\n True,\n True,\n True,\n True,\n True,\n True]"
     },
     "execution_count": 27,
     "metadata": {},
     "output_type": "execute_result"
    }
   ],
   "source": [
    "states_delta05"
   ],
   "metadata": {
    "collapsed": false,
    "ExecuteTime": {
     "end_time": "2024-01-31T13:28:06.587834200Z",
     "start_time": "2024-01-31T13:28:06.583443Z"
    }
   }
  },
  {
   "cell_type": "code",
   "execution_count": 34,
   "outputs": [],
   "source": [
    "# defining matrixes\n",
    "np.random.seed(42)\n",
    "components = 6\n",
    "delta = 0.5\n",
    "m = 5\n",
    "startprob = np.array([1, 0, 0, 0, 0, 0])\n",
    "transtprob = np.array([[0.1, 0.9, 0, 0, 0, 0],\n",
    "                        [0.2, 0, 0.1+delta, 0, 0, 0.7-delta],\n",
    "                        [0, 0.5, 0, 0.5, 0, 0],\n",
    "                        [0, 0, 0.5, 0.5, 0, 0],\n",
    "                        [0, 0, 0.1, 0, 0.4, 0.5],\n",
    "                        [0, 0.2, 0, 0, 0.7, 0.1]])\n",
    "emissionprob = np.array([[0.25, 0.25, 0.25, 0.25],\n",
    "                         [0.4, 0.3, 0.2, 0.1],\n",
    "                         [0.4, 0.4, 0.1, 0.1],\n",
    "                         [0.3, 0.3, 0.3, 0.1],\n",
    "                         [0.2, 0.2, 0.2, 0.4],\n",
    "                         [0.2, 0.2, 0.3, 0.3]\n",
    "                         ])\n"
   ],
   "metadata": {
    "collapsed": false,
    "ExecuteTime": {
     "end_time": "2024-01-31T13:30:56.438191Z",
     "start_time": "2024-01-31T13:30:56.435691800Z"
    }
   }
  },
  {
   "cell_type": "code",
   "execution_count": 35,
   "outputs": [],
   "source": [
    "states_delta2 = high_risk_condition(model=model, components=components, m=m,k=k,n=n,f=f)"
   ],
   "metadata": {
    "collapsed": false,
    "ExecuteTime": {
     "end_time": "2024-01-31T13:30:59.087011500Z",
     "start_time": "2024-01-31T13:30:58.468402300Z"
    }
   }
  },
  {
   "cell_type": "code",
   "execution_count": 36,
   "outputs": [
    {
     "data": {
      "text/plain": "[True,\n True,\n True,\n True,\n True,\n True,\n True,\n True,\n True,\n True,\n True,\n True,\n True,\n True,\n True,\n True,\n True,\n True,\n True,\n True,\n True,\n True,\n True,\n True,\n True,\n True,\n True,\n True,\n True,\n True,\n True,\n True,\n True,\n True,\n True,\n True,\n True,\n True,\n True,\n True,\n True,\n True,\n True,\n True,\n True,\n True,\n True,\n True,\n True,\n True,\n True,\n True,\n True,\n True,\n True,\n True,\n True,\n True,\n True,\n True,\n True,\n True,\n True,\n True,\n True,\n True,\n True,\n True,\n True,\n True,\n True,\n True,\n True,\n True,\n True,\n True,\n True,\n True,\n True,\n True,\n True,\n True,\n True,\n True,\n True,\n True,\n True,\n True,\n True,\n True,\n True,\n True,\n True,\n True,\n True,\n True,\n True,\n True,\n True,\n True]"
     },
     "execution_count": 36,
     "metadata": {},
     "output_type": "execute_result"
    }
   ],
   "source": [
    "states_delta2"
   ],
   "metadata": {
    "collapsed": false,
    "ExecuteTime": {
     "end_time": "2024-01-31T13:31:00.528705100Z",
     "start_time": "2024-01-31T13:31:00.523636900Z"
    }
   }
  }
 ],
 "metadata": {
  "kernelspec": {
   "display_name": "Python 3",
   "language": "python",
   "name": "python3"
  },
  "language_info": {
   "codemirror_mode": {
    "name": "ipython",
    "version": 2
   },
   "file_extension": ".py",
   "mimetype": "text/x-python",
   "name": "python",
   "nbconvert_exporter": "python",
   "pygments_lexer": "ipython2",
   "version": "2.7.6"
  }
 },
 "nbformat": 4,
 "nbformat_minor": 0
}
