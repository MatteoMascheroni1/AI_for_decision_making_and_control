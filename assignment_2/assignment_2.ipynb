{
 "cells": [
  {
   "cell_type": "code",
   "execution_count": 3,
   "metadata": {
    "collapsed": true
   },
   "outputs": [],
   "source": [
    "import numpy as np\n",
    "from hmmlearn import hmm"
   ]
  },
  {
   "cell_type": "code",
   "execution_count": 4,
   "outputs": [],
   "source": [
    "# defining matrixes\n",
    "np.random.seed(42)\n",
    "componets = 6\n",
    "delta = 0.05\n",
    "m = 5\n",
    "startprob = np.array([1, 0, 0, 0, 0, 0])\n",
    "transtprob = np.array([[0.1, 0.9, 0, 0, 0, 0],\n",
    "                        [0.2, 0, 0.1+delta, 0, 0, 0.7-delta],\n",
    "                        [0, 0.5, 0, 0.5, 0, 0],\n",
    "                        [0, 0, 0.5, 0.5, 0, 0],\n",
    "                        [0, 0, 0.1, 0, 0.4, 0.5],\n",
    "                        [0, 0.2, 0, 0, 0.7, 0.1]])\n",
    "emissionprob = np.array([[0.25, 0.25, 0.25, 0.25],\n",
    "                         [0.4, 0.3, 0.2, 0.1],\n",
    "                         [0.4, 0.4, 0.1, 0.1],\n",
    "                         [0.3, 0.3, 0.3, 0.1],\n",
    "                         [0.2, 0.2, 0.2, 0.4],\n",
    "                         [0.2, 0.2, 0.3, 0.3]\n",
    "                         ])\n",
    "\n"
   ],
   "metadata": {
    "collapsed": false
   }
  },
  {
   "cell_type": "code",
   "execution_count": 5,
   "outputs": [],
   "source": [
    "model = hmm.CategoricalHMM(n_components=componets)\n",
    "model.startprob_=startprob\n",
    "model.transmat_ = transtprob\n",
    "model.emissionprob_ = emissionprob"
   ],
   "metadata": {
    "collapsed": false
   }
  },
  {
   "cell_type": "code",
   "execution_count": 6,
   "outputs": [],
   "source": [
    "def observation_sample(model, k = 10):\n",
    "    O,Q = model.sample(k*2)\n",
    "    observations = O[np.arange(0,2*k,2)]\n",
    "    return observations, Q"
   ],
   "metadata": {
    "collapsed": false
   }
  },
  {
   "cell_type": "code",
   "execution_count": 25,
   "outputs": [
    {
     "data": {
      "text/plain": "10"
     },
     "execution_count": 25,
     "metadata": {},
     "output_type": "execute_result"
    }
   ],
   "source": [
    "len(observation_sample(model)[0])"
   ],
   "metadata": {
    "collapsed": false
   }
  },
  {
   "cell_type": "code",
   "execution_count": 12,
   "outputs": [
    {
     "data": {
      "text/plain": "6"
     },
     "execution_count": 12,
     "metadata": {},
     "output_type": "execute_result"
    }
   ],
   "source": [
    "model.emissionprob_.shape[0]"
   ],
   "metadata": {
    "collapsed": false
   }
  },
  {
   "cell_type": "code",
   "execution_count": 13,
   "outputs": [
    {
     "data": {
      "text/plain": "array([], shape=(6, 0), dtype=float64)"
     },
     "execution_count": 13,
     "metadata": {},
     "output_type": "execute_result"
    }
   ],
   "source": [
    "np.zeros([6,0])"
   ],
   "metadata": {
    "collapsed": false
   }
  },
  {
   "cell_type": "code",
   "execution_count": 29,
   "outputs": [],
   "source": [
    "obs, real_states= observation_sample(model=model, k=200)"
   ],
   "metadata": {
    "collapsed": false
   }
  },
  {
   "cell_type": "code",
   "execution_count": 30,
   "outputs": [],
   "source": [
    "obs = obs.flatten()"
   ],
   "metadata": {
    "collapsed": false
   }
  },
  {
   "cell_type": "code",
   "execution_count": 31,
   "outputs": [
    {
     "data": {
      "text/plain": "array([1, 1, 0, 2, 0, 1, 2, 3, 2, 0, 2, 0, 2, 2, 2, 2, 1, 0, 3, 0, 3, 2,\n       1, 0, 3, 1, 0, 0, 1, 3, 3, 2, 1, 1, 1, 0, 3, 1, 2, 2, 0, 0, 0, 1,\n       3, 2, 0, 3, 2, 0, 3, 3, 3, 1, 2, 3, 3, 1, 3, 3, 1, 0, 2, 1, 0, 1,\n       3, 0, 3, 0, 3, 3, 1, 0, 3, 2, 3, 3, 0, 1, 3, 1, 0, 2, 0, 1, 3, 3,\n       3, 2, 3, 3, 0, 2, 1, 3, 1, 0, 0, 3, 3, 3, 0, 3, 1, 2, 1, 3, 2, 1,\n       3, 3, 3, 0, 0, 2, 0, 3, 3, 3, 1, 2, 2, 1, 0, 2, 1, 2, 1, 0, 0, 1,\n       1, 3, 3, 3, 1, 0, 1, 0, 1, 1, 2, 0, 0, 0, 1, 0, 1, 0, 0, 2, 2, 2,\n       0, 3, 0, 0, 2, 1, 1, 2, 0, 1, 1, 0, 3, 1, 1, 3, 0, 3, 0, 2, 3, 1,\n       3, 2, 1, 2, 1, 1, 2, 1, 1, 1, 3, 3, 2, 2, 0, 3, 0, 3, 1, 0, 3, 1,\n       0, 1], dtype=int64)"
     },
     "execution_count": 31,
     "metadata": {},
     "output_type": "execute_result"
    }
   ],
   "source": [
    "obs"
   ],
   "metadata": {
    "collapsed": false
   }
  },
  {
   "cell_type": "code",
   "execution_count": 32,
   "outputs": [],
   "source": [
    "T = len(obs)*2"
   ],
   "metadata": {
    "collapsed": false
   }
  },
  {
   "cell_type": "code",
   "execution_count": 33,
   "outputs": [],
   "source": [
    "V = np.zeros((T,6))"
   ],
   "metadata": {
    "collapsed": false
   }
  },
  {
   "cell_type": "code",
   "execution_count": 142,
   "outputs": [
    {
     "data": {
      "text/plain": "array([[0., 0., 0., 0., 0., 0.],\n       [0., 0., 0., 0., 0., 0.],\n       [0., 0., 0., 0., 0., 0.],\n       [0., 0., 0., 0., 0., 0.],\n       [0., 0., 0., 0., 0., 0.],\n       [0., 0., 0., 0., 0., 0.],\n       [0., 0., 0., 0., 0., 0.],\n       [0., 0., 0., 0., 0., 0.],\n       [0., 0., 0., 0., 0., 0.],\n       [0., 0., 0., 0., 0., 0.],\n       [0., 0., 0., 0., 0., 0.],\n       [0., 0., 0., 0., 0., 0.],\n       [0., 0., 0., 0., 0., 0.],\n       [0., 0., 0., 0., 0., 0.],\n       [0., 0., 0., 0., 0., 0.],\n       [0., 0., 0., 0., 0., 0.],\n       [0., 0., 0., 0., 0., 0.],\n       [0., 0., 0., 0., 0., 0.],\n       [0., 0., 0., 0., 0., 0.],\n       [0., 0., 0., 0., 0., 0.]])"
     },
     "execution_count": 142,
     "metadata": {},
     "output_type": "execute_result"
    }
   ],
   "source": [
    "V"
   ],
   "metadata": {
    "collapsed": false
   }
  },
  {
   "cell_type": "code",
   "execution_count": 34,
   "outputs": [],
   "source": [
    "for j in range(6):\n",
    "    V[0][j] = startprob[j]*emissionprob[j][obs[0]]"
   ],
   "metadata": {
    "collapsed": false
   }
  },
  {
   "cell_type": "code",
   "execution_count": 35,
   "outputs": [],
   "source": [
    "for t in range(1,T):\n",
    "    for j in range(6):\n",
    "        if t%2 == 0:\n",
    "            V[t][j] = max(V[t-1] * transtprob[:,j] * emissionprob[j][obs[int(t/2)]])\n",
    "        else:\n",
    "            V[t][j] = max(V[t-1] * transtprob[:,j])\n"
   ],
   "metadata": {
    "collapsed": false
   }
  },
  {
   "cell_type": "code",
   "execution_count": 154,
   "outputs": [
    {
     "data": {
      "text/plain": "array([[2.50000000e-01, 0.00000000e+00, 0.00000000e+00, 0.00000000e+00,\n        0.00000000e+00, 0.00000000e+00],\n       [2.50000000e-02, 2.25000000e-01, 0.00000000e+00, 0.00000000e+00,\n        0.00000000e+00, 0.00000000e+00],\n       [1.12500000e-02, 9.00000000e-03, 1.35000000e-02, 0.00000000e+00,\n        0.00000000e+00, 2.92500000e-02],\n       [1.80000000e-03, 1.01250000e-02, 1.35000000e-03, 6.75000000e-03,\n        2.04750000e-02, 5.85000000e-03],\n       [5.06250000e-04, 6.48000000e-04, 1.35000000e-03, 1.01250000e-03,\n        1.63800000e-03, 2.04750000e-03],\n       [1.29600000e-04, 6.75000000e-04, 5.06250000e-04, 6.75000000e-04,\n        1.43325000e-03, 8.19000000e-04],\n       [3.37500000e-05, 7.59375000e-05, 1.35000000e-04, 1.01250000e-04,\n        1.14660000e-04, 1.43325000e-04],\n       [1.51875000e-05, 6.75000000e-05, 5.06250000e-05, 6.75000000e-05,\n        1.00327500e-04, 5.73300000e-05],\n       [3.37500000e-06, 2.53125000e-06, 3.37500000e-06, 3.37500000e-06,\n        1.60524000e-05, 1.50491250e-05],\n       [5.06250000e-07, 3.03750000e-06, 1.68750000e-06, 1.68750000e-06,\n        1.05343875e-05, 8.02620000e-06],\n       [1.51875000e-07, 3.21048000e-07, 1.05343875e-07, 2.53125000e-07,\n        1.12366800e-06, 1.58015812e-06],\n       [6.42096000e-08, 3.16031625e-07, 1.26562500e-07, 1.26562500e-07,\n        1.10611069e-06, 5.61834000e-07],\n       [1.58015813e-08, 4.49467200e-08, 4.42444275e-08, 1.89843750e-08,\n        8.84888550e-08, 1.10611069e-07],\n       [8.98934400e-09, 2.21222137e-08, 9.49218750e-09, 2.21222137e-08,\n        7.74277481e-08, 4.42444275e-08],\n       [1.10611069e-09, 8.84888550e-10, 1.10611069e-09, 1.10611069e-09,\n        1.23884397e-08, 1.16141622e-08],\n       [1.76977710e-10, 2.32283244e-09, 1.23884397e-09, 5.53055344e-10,\n        8.12991355e-09, 6.19421985e-09],\n       [1.16141622e-10, 2.47768794e-10, 8.12991355e-11, 1.85826596e-10,\n        8.67190779e-10, 1.21948703e-09],\n       [4.95537588e-11, 2.43897407e-10, 9.29132978e-11, 9.29132978e-11,\n        8.53640923e-10, 4.33595390e-10],\n       [1.21948703e-11, 3.46876312e-11, 3.41456369e-11, 1.39369947e-11,\n        6.82912738e-11, 8.53640923e-11],\n       [6.93752623e-12, 1.70728185e-11, 6.96849733e-12, 1.70728185e-11,\n        5.97548646e-11, 3.41456369e-11]])"
     },
     "execution_count": 154,
     "metadata": {},
     "output_type": "execute_result"
    }
   ],
   "source": [
    "V"
   ],
   "metadata": {
    "collapsed": false
   }
  },
  {
   "cell_type": "code",
   "execution_count": 42,
   "outputs": [],
   "source": [
    "best_last_state = np.argmax(V[T-1])"
   ],
   "metadata": {
    "collapsed": false
   }
  },
  {
   "cell_type": "code",
   "execution_count": 43,
   "outputs": [],
   "source": [
    "best_path = [best_last_state]"
   ],
   "metadata": {
    "collapsed": false
   }
  },
  {
   "cell_type": "code",
   "execution_count": 124,
   "outputs": [
    {
     "data": {
      "text/plain": "4.5"
     },
     "execution_count": 124,
     "metadata": {},
     "output_type": "execute_result"
    }
   ],
   "source": [
    "max(np.array([1,2,3]) * np.array([1,2,3]) * 0.5)"
   ],
   "metadata": {
    "collapsed": false
   }
  },
  {
   "cell_type": "code",
   "execution_count": 38,
   "outputs": [],
   "source": [
    "t_prova = transtprob.copy()"
   ],
   "metadata": {
    "collapsed": false
   }
  },
  {
   "cell_type": "code",
   "execution_count": 39,
   "outputs": [],
   "source": [
    "t_prova[t_prova != 0] = 1"
   ],
   "metadata": {
    "collapsed": false
   }
  },
  {
   "cell_type": "code",
   "execution_count": 40,
   "outputs": [
    {
     "name": "stdout",
     "output_type": "stream",
     "text": [
      "[5, 5, 4, 5, 4, 5, 4, 5, 4, 5, 4, 5, 4, 4, 4, 4, 4, 4, 5, 4, 5, 4, 5, 4, 4, 4, 4, 4, 5, 4, 5, 4, 5, 4, 5, 4, 5, 4, 5, 4, 5, 4, 4, 4, 4, 5, 4, 5, 4, 5, 4, 4, 4, 5, 4, 5, 4, 5, 4, 5, 4, 4, 4, 4, 4, 4, 4, 5, 1, 2, 3, 3, 2, 4, 5, 4, 5, 4, 5, 4, 5, 4, 5, 4, 4, 4, 4, 4, 4, 4, 5, 4, 5, 4, 5, 4, 5, 1, 2, 1, 2, 1, 2, 1, 2, 1, 2, 1, 2, 1, 2, 4, 5, 4, 5, 1, 2, 1, 2, 4, 4, 5, 4, 5, 4, 5, 4, 5, 4, 5, 4, 4, 4, 4, 5, 1, 2, 4, 5, 4, 5, 4, 5, 4, 5, 4, 5, 4, 5, 4, 5, 4, 5, 4, 5, 4, 4, 5, 4, 5, 4, 5, 4, 5, 4, 4, 4, 4, 4, 5, 4, 5, 4, 5, 4, 5, 4, 4, 4, 4, 4, 4, 4, 5, 4, 4, 4, 4, 4, 5, 4, 5, 4, 5, 4, 5, 4, 5, 4, 5, 4, 5, 4, 5, 4, 5, 4, 5, 4, 4, 4, 4, 4, 5, 4, 5, 4, 5, 4, 4, 4, 5, 4, 5, 4, 5, 4, 4, 4, 4, 4, 4, 4, 5, 4, 5, 4, 5, 4, 5, 4, 5, 4, 5, 4, 5, 4, 4, 4, 5, 4, 5, 4, 5, 4, 5, 4, 5, 4, 5, 4, 5, 4, 5, 4, 5, 4, 4, 4, 4, 4, 4, 4, 4, 4, 5, 4, 5, 4, 5, 4, 5, 4, 5, 4, 5, 4, 5, 4, 4, 4, 5, 4, 5, 4, 5, 4, 4, 4, 4, 5, 4, 5, 4, 4, 4, 5, 4, 5, 4, 4, 4, 5, 4, 5, 4, 5, 4, 5, 4, 5, 4, 5, 5, 4, 5, 4, 4, 4, 4, 4, 4, 4, 4, 4, 4, 4, 5, 4, 5, 4, 4, 4, 4, 4, 4, 4, 4, 4, 4, 4, 4, 5, 4, 5, 4, 5, 5, 4, 4, 4, 4, 4, 4, 5, 4, 5, 4, 5, 4, 5, 4, 5, 4, 5, 4, 5, 4, 5, 4, 5, 4, 5, 4, 4, 4, 5, 4, 5, 4, 5, 4, 5, 4, 5, 4, 5, 1, 0, 1]\n"
     ]
    }
   ],
   "source": [
    "for i in range(T-2,-1,-1):\n",
    "    best_last_state = np.argmax(V[i-1]*t_prova[:,best_last_state])\n",
    "    best_path.append(best_last_state)\n",
    "\n",
    "print(best_path)"
   ],
   "metadata": {
    "collapsed": false
   }
  },
  {
   "cell_type": "code",
   "execution_count": 44,
   "outputs": [
    {
     "name": "stdout",
     "output_type": "stream",
     "text": [
      "[5, 4, 4, 5, 4, 5, 4, 5, 4, 5, 4, 5, 4, 5, 4, 5, 4, 4, 5, 4, 5, 4, 5, 4, 5, 4, 5, 1, 2, 3, 2, 3, 2, 3, 3, 3, 2, 3, 2, 3, 3, 3, 2, 4, 5, 4, 4, 5, 4, 5, 4, 5, 4, 5, 4, 5, 4, 5, 4, 5, 4, 5, 4, 5, 4, 5, 4, 5, 1, 2, 3, 3, 2, 3, 2, 3, 3, 3, 2, 3, 2, 3, 3, 3, 2, 3, 2, 4, 5, 4, 5, 4, 5, 4, 5, 4, 5, 1, 2, 3, 2, 3, 2, 3, 2, 3, 2, 3, 2, 3, 2, 3, 2, 3, 3, 3, 2, 3, 2, 3, 2, 3, 2, 3, 2, 3, 2, 4, 4, 5, 4, 5, 4, 5, 1, 2, 3, 3, 2, 3, 2, 3, 2, 3, 3, 3, 2, 3, 3, 3, 2, 3, 2, 4, 5, 4, 5, 4, 4, 5, 4, 5, 4, 5, 4, 5, 4, 5, 4, 5, 4, 5, 4, 5, 4, 5, 4, 5, 4, 5, 4, 5, 4, 5, 4, 5, 4, 5, 4, 5, 4, 5, 4, 5, 4, 5, 4, 5, 4, 5, 4, 5, 4, 5, 4, 5, 4, 5, 4, 5, 4, 5, 4, 5, 4, 5, 4, 5, 4, 5, 4, 5, 4, 5, 4, 5, 4, 5, 4, 5, 4, 5, 4, 5, 4, 5, 4, 5, 4, 5, 4, 5, 4, 5, 4, 5, 4, 5, 4, 5, 4, 5, 4, 5, 4, 5, 4, 5, 4, 5, 4, 5, 4, 5, 4, 5, 4, 5, 4, 5, 4, 5, 4, 5, 4, 5, 4, 5, 4, 5, 4, 5, 4, 5, 4, 5, 4, 5, 4, 5, 4, 5, 4, 5, 4, 5, 4, 5, 4, 4, 5, 4, 5, 4, 5, 4, 5, 4, 5, 4, 5, 1, 2, 3, 2, 3, 2, 3, 2, 4, 5, 4, 5, 4, 5, 4, 5, 1, 2, 3, 2, 3, 2, 3, 2, 4, 5, 4, 4, 5, 4, 5, 4, 5, 4, 5, 4, 5, 4, 5, 4, 5, 4, 5, 4, 5, 4, 5, 4, 5, 4, 5, 4, 5, 4, 4, 5, 4, 5, 4, 5, 4, 5, 4, 5, 4, 5, 4, 5, 4, 5, 4, 5, 4, 5, 4, 5, 4, 5, 4, 5, 4, 5, 4, 5, 4, 5, 1, 0, 1]\n"
     ]
    }
   ],
   "source": [
    "for i in range(T-2,-1,-1):\n",
    "    best_last_state = np.argmax(V[i-1]*transtprob[:,best_last_state])\n",
    "    best_path.append(best_last_state)\n",
    "\n",
    "print(best_path)"
   ],
   "metadata": {
    "collapsed": false
   }
  },
  {
   "cell_type": "code",
   "execution_count": 19,
   "outputs": [
    {
     "data": {
      "text/plain": "array([3, 2, 3, 2, 4, 5, 4, 4, 4, 4, 5, 1, 0, 1, 0, 1, 0, 0, 1, 0])"
     },
     "execution_count": 19,
     "metadata": {},
     "output_type": "execute_result"
    }
   ],
   "source": [
    "np.flip(real_states)"
   ],
   "metadata": {
    "collapsed": false
   }
  },
  {
   "cell_type": "code",
   "execution_count": 46,
   "outputs": [
    {
     "data": {
      "text/plain": "117"
     },
     "execution_count": 46,
     "metadata": {},
     "output_type": "execute_result"
    }
   ],
   "source": [
    "sum(np.flip(best_path) == real_states)"
   ],
   "metadata": {
    "collapsed": false
   }
  },
  {
   "cell_type": "code",
   "execution_count": 82,
   "outputs": [],
   "source": [
    "def risk_check(path, m):\n",
    "    path_np = np.array(path)\n",
    "    path_np[path_np>=4] = 7\n",
    "    for i in range(len(path) - m):\n",
    "        if np.array_equal(path_np[i:i+m], np.array([7]*m)):\n",
    "            # print(\"Fuori controllo\")\n",
    "            return True\n",
    "    return False"
   ],
   "metadata": {
    "collapsed": false
   }
  },
  {
   "cell_type": "code",
   "execution_count": 83,
   "outputs": [
    {
     "data": {
      "text/plain": "True"
     },
     "execution_count": 83,
     "metadata": {},
     "output_type": "execute_result"
    }
   ],
   "source": [
    "risk_check(path=best_path, m=5)"
   ],
   "metadata": {
    "collapsed": false
   }
  },
  {
   "cell_type": "code",
   "execution_count": 73,
   "outputs": [],
   "source": [
    "path_np = np.array(best_path)"
   ],
   "metadata": {
    "collapsed": false
   }
  },
  {
   "cell_type": "code",
   "execution_count": 79,
   "outputs": [],
   "source": [],
   "metadata": {
    "collapsed": false
   }
  },
  {
   "cell_type": "code",
   "execution_count": 76,
   "outputs": [],
   "source": [],
   "metadata": {
    "collapsed": false
   }
  },
  {
   "cell_type": "code",
   "execution_count": 80,
   "outputs": [
    {
     "ename": "NameError",
     "evalue": "name 'path_np' is not defined",
     "output_type": "error",
     "traceback": [
      "\u001B[1;31m---------------------------------------------------------------------------\u001B[0m",
      "\u001B[1;31mNameError\u001B[0m                                 Traceback (most recent call last)",
      "Cell \u001B[1;32mIn[80], line 1\u001B[0m\n\u001B[1;32m----> 1\u001B[0m \u001B[43mpath_np\u001B[49m\n",
      "\u001B[1;31mNameError\u001B[0m: name 'path_np' is not defined"
     ]
    }
   ],
   "source": [],
   "metadata": {
    "collapsed": false
   }
  },
  {
   "cell_type": "code",
   "execution_count": 121,
   "outputs": [
    {
     "data": {
      "text/plain": "[20, 19, 18, 17, 16, 15, 14, 13, 12, 11, 10, 9, 8, 7, 6, 5, 4, 3, 2, 1, 0]"
     },
     "execution_count": 121,
     "metadata": {},
     "output_type": "execute_result"
    }
   ],
   "source": [
    "list(range(20,-1,-1))"
   ],
   "metadata": {
    "collapsed": false
   }
  },
  {
   "cell_type": "code",
   "execution_count": 95,
   "outputs": [
    {
     "data": {
      "text/plain": "0.0"
     },
     "execution_count": 95,
     "metadata": {},
     "output_type": "execute_result"
    }
   ],
   "source": [
    "max(transtprob[:,3]*V[0])"
   ],
   "metadata": {
    "collapsed": false
   }
  },
  {
   "cell_type": "code",
   "execution_count": 100,
   "outputs": [
    {
     "data": {
      "text/plain": "0"
     },
     "execution_count": 100,
     "metadata": {},
     "output_type": "execute_result"
    }
   ],
   "source": [],
   "metadata": {
    "collapsed": false
   }
  },
  {
   "cell_type": "code",
   "execution_count": 37,
   "outputs": [],
   "source": [],
   "metadata": {
    "collapsed": false
   }
  },
  {
   "cell_type": "code",
   "execution_count": 45,
   "outputs": [],
   "source": [],
   "metadata": {
    "collapsed": false
   }
  },
  {
   "cell_type": "code",
   "execution_count": 29,
   "outputs": [],
   "source": [],
   "metadata": {
    "collapsed": false
   }
  },
  {
   "cell_type": "code",
   "execution_count": 57,
   "outputs": [],
   "source": [],
   "metadata": {
    "collapsed": false
   }
  },
  {
   "cell_type": "code",
   "execution_count": 67,
   "outputs": [],
   "source": [],
   "metadata": {
    "collapsed": false
   }
  }
 ],
 "metadata": {
  "kernelspec": {
   "display_name": "Python 3",
   "language": "python",
   "name": "python3"
  },
  "language_info": {
   "codemirror_mode": {
    "name": "ipython",
    "version": 2
   },
   "file_extension": ".py",
   "mimetype": "text/x-python",
   "name": "python",
   "nbconvert_exporter": "python",
   "pygments_lexer": "ipython2",
   "version": "2.7.6"
  }
 },
 "nbformat": 4,
 "nbformat_minor": 0
}
