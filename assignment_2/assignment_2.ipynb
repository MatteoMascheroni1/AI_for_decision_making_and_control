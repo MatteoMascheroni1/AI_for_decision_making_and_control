{
 "cells": [
  {
   "cell_type": "code",
   "execution_count": 1,
   "metadata": {
    "collapsed": true,
    "ExecuteTime": {
     "end_time": "2024-01-31T13:22:45.782831700Z",
     "start_time": "2024-01-31T13:22:45.778626100Z"
    }
   },
   "outputs": [
    {
     "name": "stderr",
     "output_type": "stream",
     "text": [
      "C:\\Users\\masch\\AppData\\Local\\Temp\\ipykernel_27532\\4025504617.py:3: DeprecationWarning: \n",
      "Pyarrow will become a required dependency of pandas in the next major release of pandas (pandas 3.0),\n",
      "(to allow more performant data types, such as the Arrow string type, and better interoperability with other libraries)\n",
      "but was not found to be installed on your system.\n",
      "If this would cause problems for you,\n",
      "please provide us feedback at https://github.com/pandas-dev/pandas/issues/54466\n",
      "        \n",
      "  import pandas as pd\n"
     ]
    }
   ],
   "source": [
    "import numpy as np\n",
    "from hmmlearn import hmm\n",
    "import pandas as pd\n"
   ]
  },
  {
   "cell_type": "code",
   "execution_count": 2,
   "outputs": [],
   "source": [
    "# defining matrixes\n",
    "np.random.seed(42)\n",
    "components = 6\n",
    "delta = 0.05\n",
    "m = 5\n",
    "startprob = np.array([1, 0, 0, 0, 0, 0])\n",
    "transtprob = np.array([[0.1, 0.9, 0, 0, 0, 0],\n",
    "                        [0.2, 0, 0.1+delta, 0, 0, 0.7-delta],\n",
    "                        [0, 0.5, 0, 0.5, 0, 0],\n",
    "                        [0, 0, 0.5, 0.5, 0, 0],\n",
    "                        [0, 0, 0.1, 0, 0.4, 0.5],\n",
    "                        [0, 0.2, 0, 0, 0.7, 0.1]])\n",
    "emissionprob = np.array([[0.25, 0.25, 0.25, 0.25],\n",
    "                         [0.4, 0.3, 0.2, 0.1],\n",
    "                         [0.4, 0.4, 0.1, 0.1],\n",
    "                         [0.3, 0.3, 0.3, 0.1],\n",
    "                         [0.2, 0.2, 0.2, 0.4],\n",
    "                         [0.2, 0.2, 0.3, 0.3]\n",
    "                         ])\n"
   ],
   "metadata": {
    "collapsed": false,
    "ExecuteTime": {
     "end_time": "2024-01-31T13:27:50.404481200Z",
     "start_time": "2024-01-31T13:27:50.401981200Z"
    }
   }
  },
  {
   "cell_type": "code",
   "execution_count": 3,
   "outputs": [],
   "source": [
    "# model instatiation\n",
    "model = hmm.CategoricalHMM(n_components=components)\n",
    "model.startprob_=startprob\n",
    "model.transmat_ = transtprob\n",
    "model.emissionprob_ = emissionprob"
   ],
   "metadata": {
    "collapsed": false,
    "ExecuteTime": {
     "end_time": "2024-01-31T13:18:36.712863600Z",
     "start_time": "2024-01-31T13:18:36.708873Z"
    }
   }
  },
  {
   "cell_type": "code",
   "execution_count": 5,
   "outputs": [],
   "source": [
    "def observation_sample(model_gen, k = 10):\n",
    "    O, Q = model_gen.sample(k*2)\n",
    "    observations = O[np.arange(0,2*k,2)].flatten()\n",
    "    return observations, Q"
   ],
   "metadata": {
    "collapsed": false,
    "ExecuteTime": {
     "end_time": "2024-01-31T13:18:38.571229600Z",
     "start_time": "2024-01-31T13:18:38.567239600Z"
    }
   }
  },
  {
   "cell_type": "code",
   "execution_count": 13,
   "outputs": [],
   "source": [
    "obs, real_states= observation_sample(model_gen=model, k=200)"
   ],
   "metadata": {
    "collapsed": false,
    "ExecuteTime": {
     "end_time": "2024-01-31T13:18:43.324099700Z",
     "start_time": "2024-01-31T13:18:43.314911100Z"
    }
   }
  },
  {
   "cell_type": "code",
   "execution_count": 4,
   "outputs": [],
   "source": [
    "# definition of Viterbi alg with obs every other state\n",
    "def viterbi(obs, components, model):\n",
    "    T = len(obs)*2\n",
    "    V = np.zeros((T,components))\n",
    "    for j in range(components):\n",
    "        V[0][j] = model.startprob_[j]*model.emissionprob_[j][obs[0]]\n",
    "    for t in range(1,T):\n",
    "        for j in range(components):\n",
    "            if t%2 == 0:\n",
    "                V[t][j] = max(V[t-1] * model.transmat_[:,j] * model.emissionprob_[j][obs[int(t/2)]])\n",
    "            else:\n",
    "                V[t][j] = max(V[t-1] * model.transmat_[:,j])\n",
    "    optimal_state = np.argmax(V[T-1])\n",
    "    best_path = [optimal_state]\n",
    "    for i in range(T-2,-1,-1):\n",
    "        optimal_state = np.argmax(V[i-1]*model.transmat_[:,optimal_state])\n",
    "        best_path.append(optimal_state)\n",
    "    return best_path"
   ],
   "metadata": {
    "collapsed": false,
    "ExecuteTime": {
     "end_time": "2024-01-31T13:19:51.576570900Z",
     "start_time": "2024-01-31T13:19:51.573628700Z"
    }
   }
  },
  {
   "cell_type": "code",
   "execution_count": 6,
   "outputs": [],
   "source": [
    "def high_states_check(path, m, high_states=[4,5]):\n",
    "    path_np = np.array(path)\n",
    "    path_np[path_np>=min(high_states)] = 7\n",
    "    for i in range(len(path) - m):\n",
    "        if np.array_equal(path_np[i:i+m], np.array([7]*m)):\n",
    "            # print(\"Fuori controllo\")\n",
    "            return True\n",
    "    return False"
   ],
   "metadata": {
    "collapsed": false,
    "ExecuteTime": {
     "end_time": "2024-01-31T13:20:09.376928400Z",
     "start_time": "2024-01-31T13:20:09.374427300Z"
    }
   }
  },
  {
   "cell_type": "code",
   "execution_count": 19,
   "outputs": [
    {
     "data": {
      "text/plain": "True"
     },
     "execution_count": 19,
     "metadata": {},
     "output_type": "execute_result"
    }
   ],
   "source": [
    "high_states_check(viterbi(obs=obs,components=components), m=5)"
   ],
   "metadata": {
    "collapsed": false,
    "ExecuteTime": {
     "end_time": "2024-01-31T13:20:10.991297200Z",
     "start_time": "2024-01-31T13:20:10.975962200Z"
    }
   }
  },
  {
   "cell_type": "code",
   "execution_count": null,
   "outputs": [],
   "source": [],
   "metadata": {
    "collapsed": false
   }
  },
  {
   "cell_type": "code",
   "execution_count": 10,
   "outputs": [],
   "source": [
    "def high_risk_condition(model, components, m, k,n):\n",
    "    cons_state = []\n",
    "    for i in range(n):\n",
    "        obs, real_states= observation_sample(model_gen=model, k=k)\n",
    "        cons_state.append(high_states_check(viterbi(obs=obs,components=components, model=model), m=m))\n",
    "    return cons_state"
   ],
   "metadata": {
    "collapsed": false,
    "ExecuteTime": {
     "end_time": "2024-01-31T13:26:17.725014600Z",
     "start_time": "2024-01-31T13:26:17.722020300Z"
    }
   }
  },
  {
   "cell_type": "code",
   "execution_count": 51,
   "outputs": [],
   "source": [
    "def high_risk_condition_real_states(model,m):\n",
    "    cons_state=[]\n",
    "    for i in range(n):\n",
    "        obs, real_states = observation_sample(model_gen=model, k=k)\n",
    "        cons_state.append(high_states_check(real_states, m=m))\n",
    "    return cons_state"
   ],
   "metadata": {
    "collapsed": false
   }
  },
  {
   "cell_type": "code",
   "execution_count": 8,
   "outputs": [],
   "source": [
    "# definition of parameters\n",
    "m = 5\n",
    "k = 200\n",
    "n = 100\n",
    "f = 0.1"
   ],
   "metadata": {
    "collapsed": false,
    "ExecuteTime": {
     "end_time": "2024-01-31T13:27:58.103881100Z",
     "start_time": "2024-01-31T13:27:58.099386100Z"
    }
   }
  },
  {
   "cell_type": "code",
   "execution_count": 11,
   "outputs": [],
   "source": [
    "states_delta05 = high_risk_condition(model=model, components=components, m=m,k=k,n=n)"
   ],
   "metadata": {
    "collapsed": false,
    "ExecuteTime": {
     "end_time": "2024-01-31T13:28:00.725224300Z",
     "start_time": "2024-01-31T13:28:00.123984400Z"
    }
   }
  },
  {
   "cell_type": "code",
   "execution_count": 15,
   "outputs": [],
   "source": [
    "def f_critical(risk_list):\n",
    "    return sum(risk_list) / len(risk_list)"
   ],
   "metadata": {
    "collapsed": false
   }
  },
  {
   "cell_type": "code",
   "execution_count": 13,
   "outputs": [
    {
     "data": {
      "text/plain": "1.0"
     },
     "execution_count": 13,
     "metadata": {},
     "output_type": "execute_result"
    }
   ],
   "source": [
    "sum(states_delta05)/len(states_delta05)"
   ],
   "metadata": {
    "collapsed": false,
    "ExecuteTime": {
     "end_time": "2024-01-31T13:28:06.587834200Z",
     "start_time": "2024-01-31T13:28:06.583443Z"
    }
   }
  },
  {
   "cell_type": "code",
   "execution_count": 34,
   "outputs": [],
   "source": [
    "# defining matrixes\n",
    "np.random.seed(42)\n",
    "components = 6\n",
    "delta = 0.5\n",
    "m = 5\n",
    "startprob = np.array([1, 0, 0, 0, 0, 0])\n",
    "transtprob = np.array([[0.1, 0.9, 0, 0, 0, 0],\n",
    "                        [0.2, 0, 0.1+delta, 0, 0, 0.7-delta],\n",
    "                        [0, 0.5, 0, 0.5, 0, 0],\n",
    "                        [0, 0, 0.5, 0.5, 0, 0],\n",
    "                        [0, 0, 0.1, 0, 0.4, 0.5],\n",
    "                        [0, 0.2, 0, 0, 0.7, 0.1]])\n",
    "emissionprob = np.array([[0.25, 0.25, 0.25, 0.25],\n",
    "                         [0.4, 0.3, 0.2, 0.1],\n",
    "                         [0.4, 0.4, 0.1, 0.1],\n",
    "                         [0.3, 0.3, 0.3, 0.1],\n",
    "                         [0.2, 0.2, 0.2, 0.4],\n",
    "                         [0.2, 0.2, 0.3, 0.3]\n",
    "                         ])\n"
   ],
   "metadata": {
    "collapsed": false,
    "ExecuteTime": {
     "end_time": "2024-01-31T13:30:56.438191Z",
     "start_time": "2024-01-31T13:30:56.435691800Z"
    }
   }
  },
  {
   "cell_type": "code",
   "execution_count": 35,
   "outputs": [],
   "source": [
    "states_delta2 = high_risk_condition(model=model, components=components, m=m,k=k,n=n,f=f)"
   ],
   "metadata": {
    "collapsed": false,
    "ExecuteTime": {
     "end_time": "2024-01-31T13:30:59.087011500Z",
     "start_time": "2024-01-31T13:30:58.468402300Z"
    }
   }
  },
  {
   "cell_type": "code",
   "execution_count": 36,
   "outputs": [
    {
     "data": {
      "text/plain": "[True,\n True,\n True,\n True,\n True,\n True,\n True,\n True,\n True,\n True,\n True,\n True,\n True,\n True,\n True,\n True,\n True,\n True,\n True,\n True,\n True,\n True,\n True,\n True,\n True,\n True,\n True,\n True,\n True,\n True,\n True,\n True,\n True,\n True,\n True,\n True,\n True,\n True,\n True,\n True,\n True,\n True,\n True,\n True,\n True,\n True,\n True,\n True,\n True,\n True,\n True,\n True,\n True,\n True,\n True,\n True,\n True,\n True,\n True,\n True,\n True,\n True,\n True,\n True,\n True,\n True,\n True,\n True,\n True,\n True,\n True,\n True,\n True,\n True,\n True,\n True,\n True,\n True,\n True,\n True,\n True,\n True,\n True,\n True,\n True,\n True,\n True,\n True,\n True,\n True,\n True,\n True,\n True,\n True,\n True,\n True,\n True,\n True,\n True,\n True]"
     },
     "execution_count": 36,
     "metadata": {},
     "output_type": "execute_result"
    }
   ],
   "source": [
    "states_delta2"
   ],
   "metadata": {
    "collapsed": false,
    "ExecuteTime": {
     "end_time": "2024-01-31T13:31:00.528705100Z",
     "start_time": "2024-01-31T13:31:00.523636900Z"
    }
   }
  },
  {
   "cell_type": "code",
   "execution_count": 25,
   "outputs": [],
   "source": [
    "# generating data for NN training\n",
    "def model_gen(delta):\n",
    "    components = 6\n",
    "    delta = delta\n",
    "    m = 5\n",
    "    startprob = np.array([1, 0, 0, 0, 0, 0])\n",
    "    transtprob = np.array([[0.1, 0.9, 0, 0, 0, 0],\n",
    "                        [0.2, 0, 0.1+delta, 0, 0, 0.7-delta],\n",
    "                        [0, 0.5, 0, 0.5, 0, 0],\n",
    "                        [0, 0, 0.5, 0.5, 0, 0],\n",
    "                        [0, 0, 0.1, 0, 0.4, 0.5],\n",
    "                        [0, 0.2, 0, 0, 0.7, 0.1]])\n",
    "    emissionprob = np.array([[0.25, 0.25, 0.25, 0.25],\n",
    "                         [0.4, 0.3, 0.2, 0.1],\n",
    "                         [0.4, 0.4, 0.1, 0.1],\n",
    "                         [0.3, 0.3, 0.3, 0.1],\n",
    "                         [0.2, 0.2, 0.2, 0.4],\n",
    "                         [0.2, 0.2, 0.3, 0.3]\n",
    "                         ])\n",
    "    model = hmm.CategoricalHMM(n_components=components)\n",
    "    model.transmat_ = transtprob\n",
    "    model.emissionprob_ = emissionprob\n",
    "    model.startprob_ = startprob\n",
    "    return model"
   ],
   "metadata": {
    "collapsed": false
   }
  },
  {
   "cell_type": "code",
   "execution_count": 65,
   "outputs": [],
   "source": [
    "data_collector = pd.DataFrame(data={'m':[], 'delta':[], 'f_crit':[]})"
   ],
   "metadata": {
    "collapsed": false
   }
  },
  {
   "cell_type": "code",
   "execution_count": 37,
   "outputs": [
    {
     "data": {
      "text/plain": "Empty DataFrame\nColumns: [m, delta, f_crit]\nIndex: []",
      "text/html": "<div>\n<style scoped>\n    .dataframe tbody tr th:only-of-type {\n        vertical-align: middle;\n    }\n\n    .dataframe tbody tr th {\n        vertical-align: top;\n    }\n\n    .dataframe thead th {\n        text-align: right;\n    }\n</style>\n<table border=\"1\" class=\"dataframe\">\n  <thead>\n    <tr style=\"text-align: right;\">\n      <th></th>\n      <th>m</th>\n      <th>delta</th>\n      <th>f_crit</th>\n    </tr>\n  </thead>\n  <tbody>\n  </tbody>\n</table>\n</div>"
     },
     "execution_count": 37,
     "metadata": {},
     "output_type": "execute_result"
    }
   ],
   "source": [
    "data_collector"
   ],
   "metadata": {
    "collapsed": false
   }
  },
  {
   "cell_type": "code",
   "execution_count": 38,
   "outputs": [
    {
     "data": {
      "text/plain": "     m  delta  f_crit\n0  7.0    0.5     0.8",
      "text/html": "<div>\n<style scoped>\n    .dataframe tbody tr th:only-of-type {\n        vertical-align: middle;\n    }\n\n    .dataframe tbody tr th {\n        vertical-align: top;\n    }\n\n    .dataframe thead th {\n        text-align: right;\n    }\n</style>\n<table border=\"1\" class=\"dataframe\">\n  <thead>\n    <tr style=\"text-align: right;\">\n      <th></th>\n      <th>m</th>\n      <th>delta</th>\n      <th>f_crit</th>\n    </tr>\n  </thead>\n  <tbody>\n    <tr>\n      <th>0</th>\n      <td>7.0</td>\n      <td>0.5</td>\n      <td>0.8</td>\n    </tr>\n  </tbody>\n</table>\n</div>"
     },
     "execution_count": 38,
     "metadata": {},
     "output_type": "execute_result"
    }
   ],
   "source": [
    "pd.concat([data_collector,pd.DataFrame(data={'m':[], 'delta':[0.5], 'f_crit':[0.8]})])"
   ],
   "metadata": {
    "collapsed": false
   }
  },
  {
   "cell_type": "code",
   "execution_count": 32,
   "outputs": [
    {
     "data": {
      "text/plain": "     m  delta  f_crit     0\n0  NaN    NaN     NaN  5.00\n1  NaN    NaN     NaN  0.00\n2  NaN    NaN     NaN  1.00\n0  NaN    NaN     NaN  5.00\n1  NaN    NaN     NaN  0.05\n..  ..    ...     ...   ...\n1  NaN    NaN     NaN  0.65\n2  NaN    NaN     NaN  0.66\n0  NaN    NaN     NaN  5.00\n1  NaN    NaN     NaN  0.40\n2  NaN    NaN     NaN  0.50\n\n[213 rows x 4 columns]",
      "text/html": "<div>\n<style scoped>\n    .dataframe tbody tr th:only-of-type {\n        vertical-align: middle;\n    }\n\n    .dataframe tbody tr th {\n        vertical-align: top;\n    }\n\n    .dataframe thead th {\n        text-align: right;\n    }\n</style>\n<table border=\"1\" class=\"dataframe\">\n  <thead>\n    <tr style=\"text-align: right;\">\n      <th></th>\n      <th>m</th>\n      <th>delta</th>\n      <th>f_crit</th>\n      <th>0</th>\n    </tr>\n  </thead>\n  <tbody>\n    <tr>\n      <th>0</th>\n      <td>NaN</td>\n      <td>NaN</td>\n      <td>NaN</td>\n      <td>5.00</td>\n    </tr>\n    <tr>\n      <th>1</th>\n      <td>NaN</td>\n      <td>NaN</td>\n      <td>NaN</td>\n      <td>0.00</td>\n    </tr>\n    <tr>\n      <th>2</th>\n      <td>NaN</td>\n      <td>NaN</td>\n      <td>NaN</td>\n      <td>1.00</td>\n    </tr>\n    <tr>\n      <th>0</th>\n      <td>NaN</td>\n      <td>NaN</td>\n      <td>NaN</td>\n      <td>5.00</td>\n    </tr>\n    <tr>\n      <th>1</th>\n      <td>NaN</td>\n      <td>NaN</td>\n      <td>NaN</td>\n      <td>0.05</td>\n    </tr>\n    <tr>\n      <th>...</th>\n      <td>...</td>\n      <td>...</td>\n      <td>...</td>\n      <td>...</td>\n    </tr>\n    <tr>\n      <th>1</th>\n      <td>NaN</td>\n      <td>NaN</td>\n      <td>NaN</td>\n      <td>0.65</td>\n    </tr>\n    <tr>\n      <th>2</th>\n      <td>NaN</td>\n      <td>NaN</td>\n      <td>NaN</td>\n      <td>0.66</td>\n    </tr>\n    <tr>\n      <th>0</th>\n      <td>NaN</td>\n      <td>NaN</td>\n      <td>NaN</td>\n      <td>5.00</td>\n    </tr>\n    <tr>\n      <th>1</th>\n      <td>NaN</td>\n      <td>NaN</td>\n      <td>NaN</td>\n      <td>0.40</td>\n    </tr>\n    <tr>\n      <th>2</th>\n      <td>NaN</td>\n      <td>NaN</td>\n      <td>NaN</td>\n      <td>0.50</td>\n    </tr>\n  </tbody>\n</table>\n<p>213 rows × 4 columns</p>\n</div>"
     },
     "execution_count": 32,
     "metadata": {},
     "output_type": "execute_result"
    }
   ],
   "source": [
    "data_collector"
   ],
   "metadata": {
    "collapsed": false
   }
  },
  {
   "cell_type": "code",
   "execution_count": 66,
   "outputs": [],
   "source": [
    "for m in range(5,15):\n",
    "    for delta in np.arange(0.0,0.71,0.01):\n",
    "        data_collector = pd.concat([data_collector, pd.DataFrame(data={'m':[m], 'delta':[delta], 'f_crit':[f_critical(high_risk_condition(model=model_gen(delta=delta), components=components, m = m, k =k, n=n))]})])"
   ],
   "metadata": {
    "collapsed": false
   }
  },
  {
   "cell_type": "code",
   "execution_count": 68,
   "outputs": [],
   "source": [
    "data_collector.to_csv(\"multi_factor_analysis.csv\", index=False)"
   ],
   "metadata": {
    "collapsed": false
   }
  },
  {
   "cell_type": "code",
   "execution_count": 57,
   "outputs": [],
   "source": [
    "data_collector_real_states = pd.DataFrame(data={'m':[], 'delta':[], 'f_crit':[]})"
   ],
   "metadata": {
    "collapsed": false
   }
  },
  {
   "cell_type": "code",
   "execution_count": 62,
   "outputs": [],
   "source": [
    "for m in range(5,10):\n",
    "    for delta in np.arange(0.0,0.70,0.05):\n",
    "        data_collector_real_states = pd.concat([data_collector_real_states, pd.DataFrame(data={'m':[m], 'delta':[delta], 'f_crit':[f_critical(high_risk_condition_real_states(model=model_gen(delta=delta), m=m))]})])\n"
   ],
   "metadata": {
    "collapsed": false
   }
  },
  {
   "cell_type": "code",
   "execution_count": 55,
   "outputs": [
    {
     "data": {
      "text/plain": "[True,\n True,\n True,\n True,\n True,\n True,\n True,\n True,\n True,\n True,\n True,\n True,\n True,\n True,\n True,\n True,\n True,\n True,\n True,\n True,\n True,\n True,\n True,\n True,\n True,\n True,\n True,\n True,\n True,\n True,\n True,\n True,\n True,\n True,\n True,\n True,\n True,\n True,\n True,\n True,\n True,\n True,\n True,\n True,\n True,\n True,\n True,\n True,\n True,\n True,\n True,\n True,\n True,\n True,\n True,\n True,\n True,\n True,\n True,\n True,\n True,\n True,\n True,\n True,\n True,\n True,\n True,\n True,\n True,\n True,\n True,\n True,\n True,\n True,\n True,\n True,\n True,\n True,\n True,\n True,\n True,\n True,\n True,\n True,\n True,\n True,\n True,\n True,\n True,\n True,\n True,\n True,\n True,\n True,\n True,\n True,\n True,\n True,\n True,\n True]"
     },
     "execution_count": 55,
     "metadata": {},
     "output_type": "execute_result"
    }
   ],
   "source": [
    "high_risk_condition_real_states(model = model_gen(delta = 0.5), m = 6)"
   ],
   "metadata": {
    "collapsed": false
   }
  },
  {
   "cell_type": "code",
   "execution_count": 64,
   "outputs": [
    {
     "data": {
      "text/plain": "      m  delta  f_crit\n0   5.0   0.00    1.00\n0   5.0   0.05    1.00\n0   5.0   0.10    1.00\n0   5.0   0.15    1.00\n0   5.0   0.20    1.00\n..  ...    ...     ...\n0   9.0   0.45    0.99\n0   9.0   0.50    1.00\n0   9.0   0.55    0.98\n0   9.0   0.60    0.89\n0   9.0   0.65    0.71\n\n[70 rows x 3 columns]",
      "text/html": "<div>\n<style scoped>\n    .dataframe tbody tr th:only-of-type {\n        vertical-align: middle;\n    }\n\n    .dataframe tbody tr th {\n        vertical-align: top;\n    }\n\n    .dataframe thead th {\n        text-align: right;\n    }\n</style>\n<table border=\"1\" class=\"dataframe\">\n  <thead>\n    <tr style=\"text-align: right;\">\n      <th></th>\n      <th>m</th>\n      <th>delta</th>\n      <th>f_crit</th>\n    </tr>\n  </thead>\n  <tbody>\n    <tr>\n      <th>0</th>\n      <td>5.0</td>\n      <td>0.00</td>\n      <td>1.00</td>\n    </tr>\n    <tr>\n      <th>0</th>\n      <td>5.0</td>\n      <td>0.05</td>\n      <td>1.00</td>\n    </tr>\n    <tr>\n      <th>0</th>\n      <td>5.0</td>\n      <td>0.10</td>\n      <td>1.00</td>\n    </tr>\n    <tr>\n      <th>0</th>\n      <td>5.0</td>\n      <td>0.15</td>\n      <td>1.00</td>\n    </tr>\n    <tr>\n      <th>0</th>\n      <td>5.0</td>\n      <td>0.20</td>\n      <td>1.00</td>\n    </tr>\n    <tr>\n      <th>...</th>\n      <td>...</td>\n      <td>...</td>\n      <td>...</td>\n    </tr>\n    <tr>\n      <th>0</th>\n      <td>9.0</td>\n      <td>0.45</td>\n      <td>0.99</td>\n    </tr>\n    <tr>\n      <th>0</th>\n      <td>9.0</td>\n      <td>0.50</td>\n      <td>1.00</td>\n    </tr>\n    <tr>\n      <th>0</th>\n      <td>9.0</td>\n      <td>0.55</td>\n      <td>0.98</td>\n    </tr>\n    <tr>\n      <th>0</th>\n      <td>9.0</td>\n      <td>0.60</td>\n      <td>0.89</td>\n    </tr>\n    <tr>\n      <th>0</th>\n      <td>9.0</td>\n      <td>0.65</td>\n      <td>0.71</td>\n    </tr>\n  </tbody>\n</table>\n<p>70 rows × 3 columns</p>\n</div>"
     },
     "execution_count": 64,
     "metadata": {},
     "output_type": "execute_result"
    }
   ],
   "source": [
    "data_collector_real_states"
   ],
   "metadata": {
    "collapsed": false
   }
  },
  {
   "cell_type": "code",
   "execution_count": 60,
   "outputs": [
    {
     "data": {
      "text/plain": "0.42"
     },
     "execution_count": 60,
     "metadata": {},
     "output_type": "execute_result"
    }
   ],
   "source": [
    "f_critical(high_risk_condition_real_states(model = model_gen(delta = 0.69), m = 6))"
   ],
   "metadata": {
    "collapsed": false
   }
  }
 ],
 "metadata": {
  "kernelspec": {
   "display_name": "Python 3",
   "language": "python",
   "name": "python3"
  },
  "language_info": {
   "codemirror_mode": {
    "name": "ipython",
    "version": 2
   },
   "file_extension": ".py",
   "mimetype": "text/x-python",
   "name": "python",
   "nbconvert_exporter": "python",
   "pygments_lexer": "ipython2",
   "version": "2.7.6"
  }
 },
 "nbformat": 4,
 "nbformat_minor": 0
}
