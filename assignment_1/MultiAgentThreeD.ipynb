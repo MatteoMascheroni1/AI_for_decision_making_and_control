{
 "cells": [
  {
   "cell_type": "markdown",
   "source": [
    "## Artificial Intelligence in Decision Making and Control of Industrial Applications [2023-24]\n",
    "Assignment 1: Reinforcement Learning\n",
    "Author: Matteo Mascheroni\n"
   ],
   "metadata": {
    "collapsed": false
   }
  },
  {
   "cell_type": "code",
   "execution_count": 1,
   "outputs": [],
   "source": [
    "import numpy as np\n",
    "import pandas as pd\n",
    "from matplotlib import pyplot as plt, animation\n",
    "from mpl_toolkits.mplot3d import Axes3D\n",
    "from matplotlib.animation import FuncAnimation\n",
    "import seaborn as sns"
   ],
   "metadata": {
    "collapsed": false,
    "ExecuteTime": {
     "end_time": "2024-01-28T08:51:35.934773800Z",
     "start_time": "2024-01-28T08:51:35.918209300Z"
    }
   }
  },
  {
   "cell_type": "code",
   "execution_count": 39,
   "outputs": [],
   "source": [
    "class MultiAgentThreeDGridEnv:\n",
    "    def __init__(self, shape=(10, 10, 10), starts=[(0, 0, 0), (0, 0, 9)], destinations=[(9, 9, 9), (9, 9, 0)], n_obstacles=15, stay_penalty=-15, collision_penalty=-10, goal_reward=100, step_penalty=-1):\n",
    "        self.shape = shape\n",
    "        self.starts = starts\n",
    "        self.destinations = destinations\n",
    "        self.n_obstacles = n_obstacles\n",
    "        self.stay_penalty = stay_penalty\n",
    "        self.collision_penalty = collision_penalty\n",
    "        self.goal_reward = goal_reward\n",
    "        self.step_penalty = step_penalty\n",
    "        self.alpha = 1\n",
    "        self.obstacles = self._generate_obstacles()\n",
    "        self.agent_positions = list(starts)\n",
    "        # initialise Q matrixes\n",
    "        self.Q = [np.zeros((1000,7)),np.zeros((1000,7))]\n",
    "\n",
    "        assert not (set(starts) & self.obstacles), \"Start positions must not be in obstacles\"\n",
    "        assert not (set(destinations) & self.obstacles), \"Destination positions must not be in obstacles\"\n",
    "        assert not(len(set([(0,0,1),(0,1,0),(1,0,0)])& self.obstacles)==3), \"Agent 0 is blocked\"\n",
    "        assert not(len(set([(0,0,8),(0,1,9),(1,0,9)])& self.obstacles)==3), \"Agent 1 is blocked\"\n",
    "        assert not(len(set([(9,9,8),(8,9,9),(9,8,9)])& self.obstacles)==3), \"Destination 0 is blocked\"\n",
    "        assert not(len(set([(9,9,1),(8,9,0),(9,8,0)])& self.obstacles)==3), \"Destination 0 is blocked\"\n",
    "\n",
    "    def _generate_obstacles(self):\n",
    "        obstacles = set()\n",
    "\n",
    "        while len(obstacles) < self.n_obstacles:\n",
    "            obstacle = tuple(np.random.randint(0, s) for s in self.shape)\n",
    "            if obstacle not in self.starts and obstacle not in self.destinations:\n",
    "                obstacles.add(obstacle)\n",
    "        return obstacles\n",
    "\n",
    "    def reset(self):\n",
    "        self.agent_positions = list(self.starts)\n",
    "        self.obstacles = self._generate_obstacles()\n",
    "        return [self._get_state(i) for i in range(len(self.starts))]\n",
    "\n",
    "    def restart(self):\n",
    "        self.agent_positions = list(self.starts)\n",
    "        return [self._get_state(i) for i in range(len(self.starts))]\n",
    "\n",
    "    def reset_q(self):\n",
    "        self.Q = [np.zeros((1000,7)),np.zeros((1000,7))]\n",
    "\n",
    "    def set_alpha(self, alpha):\n",
    "        self.alpha = alpha\n",
    "\n",
    "\n",
    "    def select_action(self, epsilon=1):\n",
    "        actions = []\n",
    "        move = [(0, 0, 0), (0, 0, 1), (0, 0, -1), (0, -1, 0), (0, 1, 0), (1, 0, 0), (-1, 0, 0)]\n",
    "        # epsilon is the probability of choosing a random action\n",
    "        if np.random.binomial(1, epsilon):\n",
    "             actions = [np.random.randint(len(move)), np.random.randint(len(move))]\n",
    "        # perform the best action\n",
    "        else:\n",
    "            prev_state = [self._get_state_single(0), self._get_state_single(1)]\n",
    "            for i, state in enumerate(prev_state):\n",
    "                actions.append(np.argmax(self.Q[i][np.where(state.flatten() == i+1)]))\n",
    "        return actions\n",
    "\n",
    "\n",
    "    def step(self, actions):\n",
    "        new_positions = []\n",
    "        rewards = []\n",
    "        dones = []\n",
    "\n",
    "        for i, action in enumerate(actions):\n",
    "            move = [(0, 0, 0), (0, 0, 1), (0, 0, -1), (0, -1, 0), (0, 1, 0), (1, 0, 0), (-1, 0, 0)]\n",
    "            # added that if the agent is in the destination it will wait there and take no reward\n",
    "            if self.agent_positions[i] == self.destinations[i]:\n",
    "               # print(f\"Agent {i} is arrived\")\n",
    "                dones.append(True)\n",
    "                rewards.append(0)\n",
    "                new_positions.append(self.destinations[i])\n",
    "            else:\n",
    "                new_position = tuple(np.add(self.agent_positions[i], move[action]))\n",
    "                if new_position == self.agent_positions[i]:\n",
    "                    reward = self.stay_penalty\n",
    "                elif (0 <= new_position[0] < self.shape[0] and\n",
    "                      0 <= new_position[1] < self.shape[1] and\n",
    "                      0 <= new_position[2] < self.shape[2] and\n",
    "                      new_position not in self.obstacles and\n",
    "                      new_positions.count(new_position) != 2):\n",
    "                    # given the check on the conditions the two agents could collide only if they move in the same cell\n",
    "                    self.agent_positions[i] = new_position\n",
    "                    reward = self.goal_reward if new_position == self.destinations[i] else self.step_penalty\n",
    "                else:\n",
    "                    reward = self.collision_penalty\n",
    "                    new_position = self.agent_positions[i]\n",
    "\n",
    "                new_positions.append(new_position)\n",
    "                rewards.append(reward)\n",
    "                dones.append(new_position == self.destinations[i])\n",
    "\n",
    "        states = [self._get_state_single(i) for i in range(len(self.starts))]\n",
    "        return states, rewards, dones\n",
    "\n",
    "    def episode(self, epsilon=1):\n",
    "        self.agent_positions = list(self.starts)\n",
    "        dones = [False * 2]\n",
    "        steps = 0\n",
    "        while dones.count(True) != 2:\n",
    "            steps += 1\n",
    "            actions = self.select_action(epsilon=epsilon)\n",
    "            prev_state = [self._get_state_single(0), self._get_state_single(1)]\n",
    "            new_state,rewards, done = self.step(actions=actions)\n",
    "            dones = done\n",
    "            # Q update\n",
    "            for i,pos in enumerate([1,2]):\n",
    "                x = np.where(prev_state[i].flatten() == pos)[0][0]\n",
    "                y = actions[i]\n",
    "                self.Q[i][x,y] = self.Q[i][x,y] + self.alpha * (rewards[i] + np.max(self.Q[i][np.where(new_state[i].flatten() == pos)]) - self.Q[i][x,y])\n",
    "            # print(f\"Number of steps: {steps}\")\n",
    "        return steps\n",
    "\n",
    "    def value_episode(self, actions):\n",
    "        self.agent_positions = list(self.starts)\n",
    "        dones = [False * 2]\n",
    "        reward_0 = []\n",
    "        reward_1 = []\n",
    "        if [10] in actions:\n",
    "            #print(f\"Return is: {-200} \")\n",
    "            return [-100,-100]\n",
    "        else:\n",
    "            policy_0 = np.array(actions[0])\n",
    "            policy_0.resize(max(len(actions[0]), len(actions[1])))\n",
    "            policy_1 = np.array(actions[1])\n",
    "            policy_1.resize(max(len(actions[0]), len(actions[1])))\n",
    "            for i in range(len(policy_0)):\n",
    "                actions = [policy_0[i], policy_1[i]]\n",
    "                new_state,rewards, done = self.step(actions=actions)\n",
    "                reward_0.append(rewards[0])\n",
    "                reward_1.append(rewards[1])\n",
    "                dones = done\n",
    "            #print(f\"Return is: {[sum(reward_0), sum(reward_1)]} \")\n",
    "            return [sum(reward_0), sum(reward_1)]\n",
    "\n",
    "\n",
    "    def _get_state(self, agent_index):\n",
    "        state = np.zeros(self.shape)\n",
    "        for obs in self.obstacles:\n",
    "            state[obs] = -1\n",
    "        state[self.destinations[agent_index]] = -2\n",
    "        for i, pos in enumerate(self.agent_positions):\n",
    "#            if state[pos] == 0:\n",
    "            state[pos] = i + 1\n",
    "        return state\n",
    "\n",
    "    def _get_state_render(self):\n",
    "        state = np.zeros(self.shape)\n",
    "        for obs in self.obstacles:\n",
    "            state[obs] = -1\n",
    "        state[self.destinations[0]] = -2\n",
    "        state[self.destinations[1]] = -3\n",
    "        for i, pos in enumerate(self.agent_positions):\n",
    "            state[pos] = i+1\n",
    "        return state\n",
    "\n",
    "    def _get_state_single(self, agent_index):\n",
    "        state = np.zeros(self.shape)\n",
    "        for obs in self.obstacles:\n",
    "            state[obs] = -1\n",
    "        state[self.destinations[agent_index]] = -2\n",
    "        state[self.agent_positions[agent_index]] = agent_index + 1\n",
    "        return state\n",
    "\n",
    "    def _get_reward(self, agent_index, position):\n",
    "        if position == self.destinations[agent_index]:\n",
    "            return self.goal_reward\n",
    "        return self.step_penalty\n",
    "\n",
    "    def policy_state(self, agent_index, pos):\n",
    "        state =  np.zeros(self.shape)\n",
    "        state[pos] = agent_index + 1\n",
    "        return state\n",
    "\n",
    "    def _get_policy(self, agent_index):\n",
    "        pos = self.starts[agent_index]\n",
    "        move = [(0, 0, 0), (0, 0, 1), (0, 0, -1), (0, -1, 0), (0, 1, 0), (1, 0, 0), (-1, 0, 0)]\n",
    "        done = False\n",
    "        policy = []\n",
    "        state =  self.policy_state(agent_index,pos)\n",
    "        steps = 0\n",
    "        while not done:\n",
    "            if steps < 100 :\n",
    "                s = np.where(state.flatten() == agent_index+1)\n",
    "                best_action = np.argmax(self.Q[agent_index][s])\n",
    "                policy.append(best_action)\n",
    "                try:\n",
    "                    pos = tuple(np.add(pos, move[best_action]))\n",
    "                    done = pos == self.destinations[agent_index]\n",
    "                    state = self.policy_state(agent_index, pos)\n",
    "                    steps += 1\n",
    "                except IndexError:\n",
    "                    policy = [10]\n",
    "                    return(policy)\n",
    "            else:\n",
    "                policy = [10]\n",
    "                #print(f\"The best policy for agent {agent_index}: {policy}\")\n",
    "                return(policy)\n",
    "        #print(f\"The best policy for agent {agent_index}: {policy}\")\n",
    "        return(policy)\n",
    "\n",
    "\n",
    "    def render(self):\n",
    "        self.ax.cla()  # Clear the axis to redraw\n",
    "        grid = self._get_state_render()  # Get the grid state\n",
    "\n",
    "        # Only fill spaces that are not empty\n",
    "        filled = np.zeros(grid.shape, dtype=bool)\n",
    "        filled[grid != 0] = True\n",
    "\n",
    "        # Create a color mapping for the grid\n",
    "        colors = np.empty(grid.shape, dtype=object)\n",
    "        colors[grid == -1] = 'red'    # Obstacles in red\n",
    "        colors[grid == 1] = 'green'   # Agent in green\n",
    "        colors[grid == -2] = 'yellow' # Destination in yellow\n",
    "        colors[grid == 2] = \"blue\"\n",
    "        colors[grid == -3] = 'orange'\n",
    "\n",
    "        # Plot the grid using voxels\n",
    "        self.ax.voxels(filled, facecolors=colors, edgecolors='k')\n",
    "\n",
    "        self.ax.set_xlabel('X axis')\n",
    "        self.ax.set_ylabel('Y axis')\n",
    "        self.ax.set_zlabel('Z axis')\n",
    "\n",
    "\n",
    "    def animate_solution(self, policy):\n",
    "      fig = plt.figure()\n",
    "      ax = fig.add_subplot(111, projection='3d')\n",
    "      self.ax = ax\n",
    "\n",
    "      # Prepare the animation function\n",
    "      def update(num):\n",
    "          action = policy[num]\n",
    "          self.step(action)\n",
    "          self.render()\n",
    "          return self.ax,\n",
    "\n",
    "      # Create the animation\n",
    "      ani = animation.FuncAnimation(fig, update, frames=len(policy), blit=False, interval=500, repeat=False)\n",
    "      plt.close(fig)  # Prevent duplicate display\n",
    "      return ani\n",
    "    \"\"\"\n",
    "    Further methods can be defined if necessary (e.g., random_state(), start_state(), animation, ...)\n",
    "    \"\"\""
   ],
   "metadata": {
    "collapsed": false,
    "ExecuteTime": {
     "end_time": "2024-01-28T10:13:44.921718100Z",
     "start_time": "2024-01-28T10:13:44.897551700Z"
    }
   }
  },
  {
   "cell_type": "markdown",
   "source": [
    "## Pseudocode\n",
    "\n",
    "The algorithm developed for the case is an independent Q-Learning algorithm. In this case two different Q matrix are define (one for each agent). So state space and actions are separated between the two agents and their interaction is modelled throught the reward logic, if the action selected would result into a collision penalty for both agents. This does not imply that the two agents cannot be in the same position at the same time, in fact if the first agent move to the previous position of the second agent and the second agent incurs in a collision the position of the two agent at the end of the step would coincide but the collision penalty would be attributed only to second agent.\n",
    " states for agent i: $ s_i \\in S $\n",
    " Q matrix for agent i : $Q_i $\n",
    " action for agent i : $ a_i \\in A_i$\n",
    " reward for agent i in time t : $ r_{i}^{t} $\n",
    " current step : $t$\n",
    " learning rate : $\\alpha$\n",
    "\n",
    "#### Initialization\n",
    "For every agent i the Q matrix is set to 0: $Q_i(s_i,a_i) = 0$ for all $s_i \\in S, a_i \\in a_i$\n",
    "\n",
    "#### For every episode\n",
    "while both agents are not in their respective destinations:\n",
    "    with probability $epsilon$: choose a random action $a_{i}^{t} \\in A_i$\n",
    "    otherwise: choose the action $a_{i}^{t} \\in \\arg \\max_{a_i} Q_i(s_{i}^{t}, a_i)$\n",
    "    (other agents will choose their actions)\n",
    "    observe agent's rewards $r_{i}^{t}$ and the next state $s_{i}^{t+1}$\n",
    "    upload the Q_matrix: $Q_i(s_{i}^{t}, a_i) \\leftarrow Q_i(s_{i}^{t}, a_i) + \\alpha [r_{i}^{t} + \\max_{a_{i}^{'}}Q_i(s_{i}^{t+1}, a_i) - Q_i(s_{i}^{t}, a_i)]$\n",
    "\n",
    "#### Observations\n",
    "The presented algorithm consider a different state for every agent in which only its position was considered, this was done mainly to reduce the dimension (it increase linearly with the number of agents instead that exponentially). This choice could lead to a non-stationarity problem in the solution because the change is state given by the movement of other agents is not captured. Despite this the algorithm resulted effective in finding the best path avoiding collisions.\n",
    "\n",
    "The collision detection in the step() function was not correct, therefore it was modified. The actual check for collision between two agents check if the next move of both agents would result in the same position (this condition still don't completely avoid the possibility of agents being in the same spot).\n",
    "\n",
    "If during training one of the two agent reach the destination it will stay there waiting for the other agent to reach its destination (without collecting rewards or updating Q).\n",
    "\n",
    "When generating obstacles now the class checks if agents and destinations are not surrounded by blocks, this would result is an agent not being able to leave its initial position or reaching its destination\n",
    "\n",
    "\n"
   ],
   "metadata": {
    "collapsed": false
   }
  },
  {
   "cell_type": "code",
   "execution_count": 40,
   "outputs": [],
   "source": [
    "def trainig(epsilon, alpha, iter, multi_agent):\n",
    "    data = []\n",
    "    multi_agent.set_alpha(alpha)\n",
    "    steps = 0\n",
    "    for i in range(iter):\n",
    "        multi_agent.restart()\n",
    "        steps += multi_agent.episode(epsilon=epsilon)\n",
    "        multi_agent.restart()\n",
    "        value = multi_agent.value_episode(actions=[multi_agent._get_policy(0),multi_agent._get_policy(1)])\n",
    "        data.append(sum(value))\n",
    "    print(f\"Number of total steps: {steps}\")\n",
    "    return data"
   ],
   "metadata": {
    "collapsed": false,
    "ExecuteTime": {
     "end_time": "2024-01-28T10:13:51.210995500Z",
     "start_time": "2024-01-28T10:13:51.208063100Z"
    }
   }
  },
  {
   "cell_type": "code",
   "execution_count": 41,
   "outputs": [],
   "source": [
    "# create the object multiagent\n",
    "multi_agent = MultiAgentThreeDGridEnv()"
   ],
   "metadata": {
    "collapsed": false,
    "ExecuteTime": {
     "end_time": "2024-01-28T10:13:54.019043300Z",
     "start_time": "2024-01-28T10:13:54.015545300Z"
    }
   }
  },
  {
   "cell_type": "code",
   "execution_count": 42,
   "outputs": [
    {
     "data": {
      "text/plain": "[array([[[ 1.,  0.,  0.,  0.,  0.,  0.,  0.,  0.,  0.,  2.],\n         [ 0.,  0.,  0.,  0.,  0.,  0.,  0.,  0.,  0.,  0.],\n         [-1.,  0.,  0.,  0.,  0.,  0.,  0.,  0.,  0.,  0.],\n         [ 0.,  0.,  0.,  0.,  0.,  0.,  0.,  0.,  0.,  0.],\n         [ 0.,  0.,  0.,  0.,  0.,  0.,  0.,  0.,  0.,  0.],\n         [ 0.,  0.,  0.,  0.,  0.,  0.,  0.,  0.,  0.,  0.],\n         [ 0.,  0.,  0.,  0.,  0.,  0.,  0.,  0.,  0.,  0.],\n         [ 0.,  0.,  0.,  0.,  0.,  0.,  0.,  0.,  0.,  0.],\n         [ 0.,  0.,  0.,  0.,  0.,  0.,  0.,  0.,  0.,  0.],\n         [ 0.,  0.,  0.,  0.,  0.,  0.,  0.,  0.,  0.,  0.]],\n \n        [[ 0.,  0.,  0.,  0.,  0.,  0.,  0.,  0.,  0.,  0.],\n         [ 0.,  0.,  0.,  0.,  0.,  0.,  0.,  0.,  0.,  0.],\n         [ 0.,  0.,  0.,  0.,  0.,  0.,  0.,  0., -1.,  0.],\n         [ 0.,  0.,  0.,  0.,  0.,  0.,  0.,  0.,  0.,  0.],\n         [ 0.,  0.,  0.,  0.,  0.,  0.,  0.,  0.,  0.,  0.],\n         [ 0.,  0.,  0.,  0.,  0.,  0.,  0.,  0.,  0.,  0.],\n         [ 0.,  0.,  0.,  0.,  0.,  0.,  0.,  0.,  0.,  0.],\n         [ 0.,  0.,  0.,  0.,  0.,  0.,  0.,  0.,  0.,  0.],\n         [ 0.,  0.,  0.,  0.,  0.,  0.,  0.,  0.,  0.,  0.],\n         [ 0.,  0.,  0.,  0.,  0.,  0.,  0.,  0.,  0.,  0.]],\n \n        [[ 0.,  0.,  0.,  0.,  0.,  0.,  0.,  0.,  0.,  0.],\n         [ 0.,  0.,  0.,  0.,  0.,  0.,  0.,  0.,  0.,  0.],\n         [ 0.,  0.,  0.,  0., -1.,  0.,  0.,  0.,  0.,  0.],\n         [ 0.,  0.,  0.,  0.,  0.,  0.,  0.,  0.,  0.,  0.],\n         [ 0.,  0.,  0.,  0.,  0.,  0.,  0.,  0.,  0.,  0.],\n         [ 0.,  0.,  0.,  0.,  0.,  0., -1.,  0.,  0.,  0.],\n         [ 0.,  0.,  0.,  0.,  0.,  0.,  0.,  0.,  0.,  0.],\n         [ 0.,  0.,  0.,  0.,  0.,  0.,  0.,  0.,  0.,  0.],\n         [ 0.,  0.,  0.,  0.,  0.,  0.,  0.,  0.,  0.,  0.],\n         [ 0.,  0.,  0.,  0.,  0.,  0.,  0.,  0.,  0.,  0.]],\n \n        [[ 0.,  0.,  0.,  0.,  0.,  0.,  0.,  0.,  0.,  0.],\n         [ 0.,  0.,  0.,  0.,  0.,  0.,  0.,  0.,  0.,  0.],\n         [ 0.,  0.,  0.,  0.,  0.,  0.,  0.,  0.,  0.,  0.],\n         [ 0.,  0.,  0.,  0.,  0.,  0.,  0.,  0.,  0.,  0.],\n         [ 0.,  0.,  0.,  0.,  0.,  0.,  0.,  0.,  0.,  0.],\n         [ 0.,  0.,  0.,  0.,  0.,  0.,  0.,  0.,  0.,  0.],\n         [ 0.,  0.,  0.,  0.,  0.,  0.,  0.,  0.,  0.,  0.],\n         [ 0.,  0.,  0.,  0.,  0.,  0., -1.,  0.,  0.,  0.],\n         [ 0.,  0.,  0.,  0.,  0.,  0.,  0.,  0.,  0.,  0.],\n         [ 0.,  0.,  0.,  0.,  0.,  0.,  0.,  0.,  0.,  0.]],\n \n        [[ 0.,  0.,  0.,  0.,  0.,  0.,  0.,  0.,  0.,  0.],\n         [-1.,  0.,  0.,  0.,  0.,  0.,  0.,  0.,  0.,  0.],\n         [ 0.,  0.,  0.,  0.,  0.,  0.,  0.,  0.,  0.,  0.],\n         [ 0.,  0.,  0.,  0.,  0.,  0.,  0.,  0.,  0.,  0.],\n         [ 0.,  0.,  0.,  0.,  0.,  0.,  0.,  0.,  0.,  0.],\n         [-1.,  0.,  0.,  0.,  0.,  0.,  0.,  0.,  0.,  0.],\n         [ 0.,  0.,  0.,  0., -1.,  0.,  0.,  0.,  0.,  0.],\n         [ 0.,  0.,  0.,  0.,  0.,  0.,  0.,  0.,  0.,  0.],\n         [ 0.,  0.,  0.,  0.,  0.,  0.,  0.,  0.,  0.,  0.],\n         [ 0.,  0.,  0.,  0.,  0.,  0.,  0.,  0.,  0., -1.]],\n \n        [[ 0.,  0.,  0.,  0.,  0.,  0.,  0.,  0.,  0.,  0.],\n         [ 0.,  0.,  0.,  0.,  0.,  0.,  0.,  0.,  0.,  0.],\n         [ 0.,  0.,  0.,  0.,  0.,  0.,  0.,  0.,  0.,  0.],\n         [ 0.,  0.,  0.,  0.,  0.,  0.,  0.,  0.,  0.,  0.],\n         [ 0.,  0.,  0.,  0.,  0.,  0.,  0.,  0.,  0.,  0.],\n         [ 0.,  0.,  0.,  0.,  0.,  0.,  0.,  0.,  0.,  0.],\n         [ 0.,  0.,  0.,  0.,  0.,  0.,  0.,  0.,  0.,  0.],\n         [ 0.,  0.,  0.,  0.,  0.,  0.,  0.,  0.,  0.,  0.],\n         [ 0.,  0.,  0., -1.,  0.,  0.,  0.,  0.,  0.,  0.],\n         [ 0.,  0.,  0.,  0.,  0.,  0.,  0.,  0.,  0.,  0.]],\n \n        [[ 0.,  0.,  0.,  0.,  0.,  0.,  0.,  0.,  0.,  0.],\n         [ 0.,  0.,  0.,  0.,  0.,  0.,  0.,  0.,  0.,  0.],\n         [ 0.,  0.,  0.,  0.,  0.,  0.,  0.,  0.,  0.,  0.],\n         [ 0.,  0.,  0.,  0.,  0.,  0.,  0.,  0.,  0.,  0.],\n         [ 0.,  0.,  0.,  0.,  0.,  0.,  0.,  0.,  0.,  0.],\n         [ 0.,  0.,  0.,  0.,  0.,  0.,  0.,  0.,  0.,  0.],\n         [ 0.,  0.,  0.,  0.,  0.,  0.,  0.,  0.,  0.,  0.],\n         [ 0.,  0.,  0.,  0.,  0.,  0.,  0.,  0.,  0., -1.],\n         [ 0.,  0.,  0.,  0.,  0.,  0.,  0.,  0.,  0.,  0.],\n         [ 0.,  0.,  0.,  0.,  0.,  0.,  0.,  0.,  0.,  0.]],\n \n        [[ 0.,  0.,  0.,  0.,  0.,  0.,  0.,  0.,  0.,  0.],\n         [ 0.,  0.,  0.,  0.,  0.,  0.,  0.,  0.,  0.,  0.],\n         [ 0.,  0.,  0.,  0.,  0.,  0.,  0.,  0.,  0.,  0.],\n         [ 0.,  0.,  0.,  0.,  0.,  0.,  0.,  0.,  0.,  0.],\n         [ 0.,  0.,  0.,  0.,  0.,  0.,  0.,  0.,  0.,  0.],\n         [ 0.,  0.,  0.,  0.,  0.,  0.,  0.,  0.,  0.,  0.],\n         [ 0.,  0.,  0.,  0.,  0.,  0.,  0.,  0.,  0.,  0.],\n         [ 0.,  0.,  0.,  0.,  0.,  0.,  0.,  0.,  0.,  0.],\n         [ 0.,  0.,  0.,  0.,  0.,  0.,  0.,  0.,  0.,  0.],\n         [ 0.,  0.,  0.,  0.,  0.,  0.,  0.,  0.,  0.,  0.]],\n \n        [[ 0.,  0.,  0.,  0.,  0.,  0.,  0.,  0.,  0.,  0.],\n         [ 0.,  0.,  0.,  0.,  0.,  0.,  0.,  0.,  0.,  0.],\n         [ 0.,  0.,  0.,  0.,  0.,  0.,  0.,  0.,  0., -1.],\n         [ 0.,  0.,  0.,  0.,  0.,  0.,  0.,  0.,  0.,  0.],\n         [-1.,  0.,  0.,  0.,  0.,  0.,  0.,  0.,  0.,  0.],\n         [-1.,  0.,  0.,  0.,  0.,  0.,  0.,  0.,  0.,  0.],\n         [ 0.,  0.,  0.,  0.,  0.,  0.,  0.,  0.,  0.,  0.],\n         [ 0.,  0.,  0.,  0.,  0.,  0.,  0.,  0.,  0.,  0.],\n         [ 0.,  0.,  0.,  0.,  0.,  0.,  0.,  0.,  0.,  0.],\n         [ 0.,  0.,  0.,  0.,  0.,  0.,  0.,  0.,  0.,  0.]],\n \n        [[ 0.,  0.,  0.,  0.,  0.,  0.,  0.,  0.,  0.,  0.],\n         [ 0.,  0.,  0.,  0.,  0.,  0.,  0.,  0.,  0.,  0.],\n         [ 0.,  0.,  0.,  0.,  0.,  0.,  0.,  0.,  0.,  0.],\n         [ 0.,  0.,  0.,  0.,  0.,  0.,  0.,  0.,  0.,  0.],\n         [ 0.,  0.,  0.,  0.,  0.,  0.,  0.,  0.,  0.,  0.],\n         [ 0.,  0.,  0.,  0.,  0.,  0.,  0.,  0.,  0.,  0.],\n         [ 0.,  0.,  0.,  0.,  0.,  0.,  0.,  0.,  0.,  0.],\n         [ 0.,  0.,  0.,  0.,  0.,  0.,  0.,  0.,  0.,  0.],\n         [ 0.,  0.,  0.,  0.,  0.,  0.,  0.,  0.,  0.,  0.],\n         [ 0.,  0.,  0.,  0.,  0.,  0.,  0., -1.,  0., -2.]]]),\n array([[[ 1.,  0.,  0.,  0.,  0.,  0.,  0.,  0.,  0.,  2.],\n         [ 0.,  0.,  0.,  0.,  0.,  0.,  0.,  0.,  0.,  0.],\n         [-1.,  0.,  0.,  0.,  0.,  0.,  0.,  0.,  0.,  0.],\n         [ 0.,  0.,  0.,  0.,  0.,  0.,  0.,  0.,  0.,  0.],\n         [ 0.,  0.,  0.,  0.,  0.,  0.,  0.,  0.,  0.,  0.],\n         [ 0.,  0.,  0.,  0.,  0.,  0.,  0.,  0.,  0.,  0.],\n         [ 0.,  0.,  0.,  0.,  0.,  0.,  0.,  0.,  0.,  0.],\n         [ 0.,  0.,  0.,  0.,  0.,  0.,  0.,  0.,  0.,  0.],\n         [ 0.,  0.,  0.,  0.,  0.,  0.,  0.,  0.,  0.,  0.],\n         [ 0.,  0.,  0.,  0.,  0.,  0.,  0.,  0.,  0.,  0.]],\n \n        [[ 0.,  0.,  0.,  0.,  0.,  0.,  0.,  0.,  0.,  0.],\n         [ 0.,  0.,  0.,  0.,  0.,  0.,  0.,  0.,  0.,  0.],\n         [ 0.,  0.,  0.,  0.,  0.,  0.,  0.,  0., -1.,  0.],\n         [ 0.,  0.,  0.,  0.,  0.,  0.,  0.,  0.,  0.,  0.],\n         [ 0.,  0.,  0.,  0.,  0.,  0.,  0.,  0.,  0.,  0.],\n         [ 0.,  0.,  0.,  0.,  0.,  0.,  0.,  0.,  0.,  0.],\n         [ 0.,  0.,  0.,  0.,  0.,  0.,  0.,  0.,  0.,  0.],\n         [ 0.,  0.,  0.,  0.,  0.,  0.,  0.,  0.,  0.,  0.],\n         [ 0.,  0.,  0.,  0.,  0.,  0.,  0.,  0.,  0.,  0.],\n         [ 0.,  0.,  0.,  0.,  0.,  0.,  0.,  0.,  0.,  0.]],\n \n        [[ 0.,  0.,  0.,  0.,  0.,  0.,  0.,  0.,  0.,  0.],\n         [ 0.,  0.,  0.,  0.,  0.,  0.,  0.,  0.,  0.,  0.],\n         [ 0.,  0.,  0.,  0., -1.,  0.,  0.,  0.,  0.,  0.],\n         [ 0.,  0.,  0.,  0.,  0.,  0.,  0.,  0.,  0.,  0.],\n         [ 0.,  0.,  0.,  0.,  0.,  0.,  0.,  0.,  0.,  0.],\n         [ 0.,  0.,  0.,  0.,  0.,  0., -1.,  0.,  0.,  0.],\n         [ 0.,  0.,  0.,  0.,  0.,  0.,  0.,  0.,  0.,  0.],\n         [ 0.,  0.,  0.,  0.,  0.,  0.,  0.,  0.,  0.,  0.],\n         [ 0.,  0.,  0.,  0.,  0.,  0.,  0.,  0.,  0.,  0.],\n         [ 0.,  0.,  0.,  0.,  0.,  0.,  0.,  0.,  0.,  0.]],\n \n        [[ 0.,  0.,  0.,  0.,  0.,  0.,  0.,  0.,  0.,  0.],\n         [ 0.,  0.,  0.,  0.,  0.,  0.,  0.,  0.,  0.,  0.],\n         [ 0.,  0.,  0.,  0.,  0.,  0.,  0.,  0.,  0.,  0.],\n         [ 0.,  0.,  0.,  0.,  0.,  0.,  0.,  0.,  0.,  0.],\n         [ 0.,  0.,  0.,  0.,  0.,  0.,  0.,  0.,  0.,  0.],\n         [ 0.,  0.,  0.,  0.,  0.,  0.,  0.,  0.,  0.,  0.],\n         [ 0.,  0.,  0.,  0.,  0.,  0.,  0.,  0.,  0.,  0.],\n         [ 0.,  0.,  0.,  0.,  0.,  0., -1.,  0.,  0.,  0.],\n         [ 0.,  0.,  0.,  0.,  0.,  0.,  0.,  0.,  0.,  0.],\n         [ 0.,  0.,  0.,  0.,  0.,  0.,  0.,  0.,  0.,  0.]],\n \n        [[ 0.,  0.,  0.,  0.,  0.,  0.,  0.,  0.,  0.,  0.],\n         [-1.,  0.,  0.,  0.,  0.,  0.,  0.,  0.,  0.,  0.],\n         [ 0.,  0.,  0.,  0.,  0.,  0.,  0.,  0.,  0.,  0.],\n         [ 0.,  0.,  0.,  0.,  0.,  0.,  0.,  0.,  0.,  0.],\n         [ 0.,  0.,  0.,  0.,  0.,  0.,  0.,  0.,  0.,  0.],\n         [-1.,  0.,  0.,  0.,  0.,  0.,  0.,  0.,  0.,  0.],\n         [ 0.,  0.,  0.,  0., -1.,  0.,  0.,  0.,  0.,  0.],\n         [ 0.,  0.,  0.,  0.,  0.,  0.,  0.,  0.,  0.,  0.],\n         [ 0.,  0.,  0.,  0.,  0.,  0.,  0.,  0.,  0.,  0.],\n         [ 0.,  0.,  0.,  0.,  0.,  0.,  0.,  0.,  0., -1.]],\n \n        [[ 0.,  0.,  0.,  0.,  0.,  0.,  0.,  0.,  0.,  0.],\n         [ 0.,  0.,  0.,  0.,  0.,  0.,  0.,  0.,  0.,  0.],\n         [ 0.,  0.,  0.,  0.,  0.,  0.,  0.,  0.,  0.,  0.],\n         [ 0.,  0.,  0.,  0.,  0.,  0.,  0.,  0.,  0.,  0.],\n         [ 0.,  0.,  0.,  0.,  0.,  0.,  0.,  0.,  0.,  0.],\n         [ 0.,  0.,  0.,  0.,  0.,  0.,  0.,  0.,  0.,  0.],\n         [ 0.,  0.,  0.,  0.,  0.,  0.,  0.,  0.,  0.,  0.],\n         [ 0.,  0.,  0.,  0.,  0.,  0.,  0.,  0.,  0.,  0.],\n         [ 0.,  0.,  0., -1.,  0.,  0.,  0.,  0.,  0.,  0.],\n         [ 0.,  0.,  0.,  0.,  0.,  0.,  0.,  0.,  0.,  0.]],\n \n        [[ 0.,  0.,  0.,  0.,  0.,  0.,  0.,  0.,  0.,  0.],\n         [ 0.,  0.,  0.,  0.,  0.,  0.,  0.,  0.,  0.,  0.],\n         [ 0.,  0.,  0.,  0.,  0.,  0.,  0.,  0.,  0.,  0.],\n         [ 0.,  0.,  0.,  0.,  0.,  0.,  0.,  0.,  0.,  0.],\n         [ 0.,  0.,  0.,  0.,  0.,  0.,  0.,  0.,  0.,  0.],\n         [ 0.,  0.,  0.,  0.,  0.,  0.,  0.,  0.,  0.,  0.],\n         [ 0.,  0.,  0.,  0.,  0.,  0.,  0.,  0.,  0.,  0.],\n         [ 0.,  0.,  0.,  0.,  0.,  0.,  0.,  0.,  0., -1.],\n         [ 0.,  0.,  0.,  0.,  0.,  0.,  0.,  0.,  0.,  0.],\n         [ 0.,  0.,  0.,  0.,  0.,  0.,  0.,  0.,  0.,  0.]],\n \n        [[ 0.,  0.,  0.,  0.,  0.,  0.,  0.,  0.,  0.,  0.],\n         [ 0.,  0.,  0.,  0.,  0.,  0.,  0.,  0.,  0.,  0.],\n         [ 0.,  0.,  0.,  0.,  0.,  0.,  0.,  0.,  0.,  0.],\n         [ 0.,  0.,  0.,  0.,  0.,  0.,  0.,  0.,  0.,  0.],\n         [ 0.,  0.,  0.,  0.,  0.,  0.,  0.,  0.,  0.,  0.],\n         [ 0.,  0.,  0.,  0.,  0.,  0.,  0.,  0.,  0.,  0.],\n         [ 0.,  0.,  0.,  0.,  0.,  0.,  0.,  0.,  0.,  0.],\n         [ 0.,  0.,  0.,  0.,  0.,  0.,  0.,  0.,  0.,  0.],\n         [ 0.,  0.,  0.,  0.,  0.,  0.,  0.,  0.,  0.,  0.],\n         [ 0.,  0.,  0.,  0.,  0.,  0.,  0.,  0.,  0.,  0.]],\n \n        [[ 0.,  0.,  0.,  0.,  0.,  0.,  0.,  0.,  0.,  0.],\n         [ 0.,  0.,  0.,  0.,  0.,  0.,  0.,  0.,  0.,  0.],\n         [ 0.,  0.,  0.,  0.,  0.,  0.,  0.,  0.,  0., -1.],\n         [ 0.,  0.,  0.,  0.,  0.,  0.,  0.,  0.,  0.,  0.],\n         [-1.,  0.,  0.,  0.,  0.,  0.,  0.,  0.,  0.,  0.],\n         [-1.,  0.,  0.,  0.,  0.,  0.,  0.,  0.,  0.,  0.],\n         [ 0.,  0.,  0.,  0.,  0.,  0.,  0.,  0.,  0.,  0.],\n         [ 0.,  0.,  0.,  0.,  0.,  0.,  0.,  0.,  0.,  0.],\n         [ 0.,  0.,  0.,  0.,  0.,  0.,  0.,  0.,  0.,  0.],\n         [ 0.,  0.,  0.,  0.,  0.,  0.,  0.,  0.,  0.,  0.]],\n \n        [[ 0.,  0.,  0.,  0.,  0.,  0.,  0.,  0.,  0.,  0.],\n         [ 0.,  0.,  0.,  0.,  0.,  0.,  0.,  0.,  0.,  0.],\n         [ 0.,  0.,  0.,  0.,  0.,  0.,  0.,  0.,  0.,  0.],\n         [ 0.,  0.,  0.,  0.,  0.,  0.,  0.,  0.,  0.,  0.],\n         [ 0.,  0.,  0.,  0.,  0.,  0.,  0.,  0.,  0.,  0.],\n         [ 0.,  0.,  0.,  0.,  0.,  0.,  0.,  0.,  0.,  0.],\n         [ 0.,  0.,  0.,  0.,  0.,  0.,  0.,  0.,  0.,  0.],\n         [ 0.,  0.,  0.,  0.,  0.,  0.,  0.,  0.,  0.,  0.],\n         [ 0.,  0.,  0.,  0.,  0.,  0.,  0.,  0.,  0.,  0.],\n         [-2.,  0.,  0.,  0.,  0.,  0.,  0., -1.,  0.,  0.]]])]"
     },
     "execution_count": 42,
     "metadata": {},
     "output_type": "execute_result"
    }
   ],
   "source": [
    "multi_agent.reset()"
   ],
   "metadata": {
    "collapsed": false,
    "ExecuteTime": {
     "end_time": "2024-01-28T10:13:55.748230900Z",
     "start_time": "2024-01-28T10:13:55.735097400Z"
    }
   }
  },
  {
   "cell_type": "markdown",
   "source": [
    "## Training\n",
    "The following block perform the training of the model with different parameters. It shows the number of steps performed during training and plot the value function of the best policy with respect of different epsilon values.\n",
    "Estimating the best policy in the first episodes of training is not always possible, sometimes selecting the action with the associated maximum Q value led to a loop, therefore a maximum steps was set to 100, if selecting the greedy policy resulted in 100 or more steps the total reward for the policy is set to -100.\n",
    "The plot shows the total value (the sum of the value of the two agents) as the training episodes progress."
   ],
   "metadata": {
    "collapsed": false
   }
  },
  {
   "cell_type": "code",
   "execution_count": 43,
   "outputs": [
    {
     "name": "stdout",
     "output_type": "stream",
     "text": [
      "Number of total steps: 65559\n",
      "Number of total steps: 86381\n",
      "Number of total steps: 2861012\n"
     ]
    },
    {
     "data": {
      "text/plain": "<Axes: xlabel='episode', ylabel='value'>"
     },
     "execution_count": 43,
     "metadata": {},
     "output_type": "execute_result"
    },
    {
     "data": {
      "text/plain": "<Figure size 640x480 with 1 Axes>",
      "image/png": "[encoded data removed]"
     },
     "metadata": {},
     "output_type": "display_data"
    }
   ],
   "source": [
    "# running this block allows to visualize how different hyperparameter affect the training phase\n",
    "data_collector = pd.DataFrame()\n",
    "epsilon = [0,0.5,1] # list of different possible epsilon\n",
    "alpha = 0.5 # alpha value\n",
    "episodes = 400 # number of episode performed for each epsilon\n",
    "for i in epsilon:\n",
    "    col_name = \"epsilon\"+str(i)\n",
    "    multi_agent.reset_q()\n",
    "    data_collector[col_name]=trainig(i,alpha,episodes, multi_agent=multi_agent)\n",
    "data_collector['episode'] = np.arange(1,data_collector.shape[0] + 1)\n",
    "sns.lineplot(x='episode', y='value', hue='variable',\n",
    "             data=pd.melt(data_collector, ['episode']))"
   ],
   "metadata": {
    "collapsed": false,
    "ExecuteTime": {
     "end_time": "2024-01-28T10:15:30.915321200Z",
     "start_time": "2024-01-28T10:14:00.009422900Z"
    }
   }
  },
  {
   "cell_type": "markdown",
   "source": [
    "## Results\n",
    "It is possible to see that a smaller epsilon resulted in a less total steps needed for the training but with a later and less stable convergence of the value function."
   ],
   "metadata": {
    "collapsed": false
   }
  },
  {
   "cell_type": "raw",
   "source": [
    "## Trainin on fixed parameters"
   ],
   "metadata": {
    "collapsed": false
   }
  },
  {
   "cell_type": "code",
   "execution_count": 53,
   "outputs": [],
   "source": [
    "# reset the agent\n",
    "multi_agent.restart()\n",
    "multi_agent.reset_q()"
   ],
   "metadata": {
    "collapsed": false,
    "ExecuteTime": {
     "end_time": "2024-01-28T10:21:28.256835Z",
     "start_time": "2024-01-28T10:21:28.254838500Z"
    }
   }
  },
  {
   "cell_type": "code",
   "execution_count": 54,
   "outputs": [
    {
     "name": "stdout",
     "output_type": "stream",
     "text": [
      "Number of total steps: 314423\n"
     ]
    },
    {
     "data": {
      "text/plain": "[-200,\n -200,\n -200,\n -200,\n -200,\n -200,\n -200,\n -200,\n -200,\n -200,\n -200,\n -200,\n -200,\n -200,\n 148,\n 146,\n 148,\n 148,\n 148,\n 148,\n 148,\n 148,\n 148,\n 148,\n 148,\n 148,\n 148,\n 148,\n 148,\n 148,\n 148,\n 148,\n 148,\n 148,\n 148,\n 148,\n 148,\n 148,\n 148,\n 148,\n 148,\n 148,\n 148,\n 148,\n 148,\n 148,\n 148,\n 148,\n 148,\n 148]"
     },
     "execution_count": 54,
     "metadata": {},
     "output_type": "execute_result"
    }
   ],
   "source": [
    "# train the agent\n",
    "np.random.seed(42)\n",
    "trainig(epsilon=1,alpha=0.9,iter=50, multi_agent=multi_agent)"
   ],
   "metadata": {
    "collapsed": false,
    "ExecuteTime": {
     "end_time": "2024-01-28T10:21:38.976803600Z",
     "start_time": "2024-01-28T10:21:29.783072800Z"
    }
   }
  },
  {
   "cell_type": "markdown",
   "source": [
    "## Results of training\n",
    "Setting the parameters as:\n",
    "$\\epsilon = 1$\n",
    "$\\alpha = 0.9$\n",
    "$\\text{number of iterations} = 50$\n",
    "Resulted in a training time of $9.220 \\text{ seconds}$\n"
   ],
   "metadata": {
    "collapsed": false
   }
  },
  {
   "cell_type": "code",
   "execution_count": 55,
   "outputs": [
    {
     "name": "stdout",
     "output_type": "stream",
     "text": [
      "27\n"
     ]
    }
   ],
   "source": [
    "# after training it is possible to visualize the animation for the optimal policy\n",
    "policy_0 = multi_agent._get_policy(0)\n",
    "policy_1 = multi_agent._get_policy(1)\n",
    "policy = [[policy_0[x],y] for x,y in enumerate(policy_1)]\n",
    "print(len(policy))\n",
    "multi_agent.restart()\n",
    "ani = multi_agent.animate_solution(policy)\n"
   ],
   "metadata": {
    "collapsed": false,
    "ExecuteTime": {
     "end_time": "2024-01-28T10:23:10.039615700Z",
     "start_time": "2024-01-28T10:23:10.020478700Z"
    }
   }
  },
  {
   "cell_type": "raw",
   "source": [
    "The best policy has a length of 27 steps"
   ],
   "metadata": {
    "collapsed": false
   }
  },
  {
   "cell_type": "code",
   "execution_count": 57,
   "outputs": [],
   "source": [
    "# Due to some trouble with Jupiter the file is saved in the same directory as the script as an mp4. file\n",
    "ani.save(\"multi_agent_4.mp4\")"
   ],
   "metadata": {
    "collapsed": false,
    "ExecuteTime": {
     "end_time": "2024-01-28T10:27:58.917449400Z",
     "start_time": "2024-01-28T10:27:57.138507200Z"
    }
   }
  },
  {
   "cell_type": "code",
   "execution_count": 59,
   "outputs": [
    {
     "data": {
      "text/plain": "<IPython.core.display.HTML object>",
      "text/html": "<video width=\"640\" height=\"480\" controls autoplay>\n  <source type=\"video/mp4\" src=\"data:video/mp4;base64,AAAAIGZ0eXBNNFYgAAACAE00ViBpc29taXNvMmF2YzEAAAAIZnJlZQAAbghtZGF0AAACoAYF//+c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\n\">\n  Your browser does not support the video tag.\n</video>"
     },
     "execution_count": 59,
     "metadata": {},
     "output_type": "execute_result"
    }
   ],
   "source": [
    "from IPython.display import HTML\n",
    "HTML(ani.to_html5_video())"
   ],
   "metadata": {
    "collapsed": false,
    "ExecuteTime": {
     "end_time": "2024-01-28T10:30:08.616845300Z",
     "start_time": "2024-01-28T10:30:06.947669400Z"
    }
   }
  }
 ],
 "metadata": {
  "kernelspec": {
   "display_name": "Python 3",
   "language": "python",
   "name": "python3"
  },
  "language_info": {
   "codemirror_mode": {
    "name": "ipython",
    "version": 2
   },
   "file_extension": ".py",
   "mimetype": "text/x-python",
   "name": "python",
   "nbconvert_exporter": "python",
   "pygments_lexer": "ipython2",
   "version": "2.7.6"
  }
 },
 "nbformat": 4,
 "nbformat_minor": 0
}
